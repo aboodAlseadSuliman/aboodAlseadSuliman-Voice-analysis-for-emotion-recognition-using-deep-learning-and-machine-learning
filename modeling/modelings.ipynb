{
 "cells": [
  {
   "cell_type": "code",
   "execution_count": 9,
   "id": "633960bd-0835-43f4-989a-01f0a006e1bb",
   "metadata": {},
   "outputs": [],
   "source": [
    "import yfinance as yf\n",
    "import numpy as np\n",
    "import pandas as pd\n",
    "import matplotlib.pyplot as plt\n",
    "import seaborn as sns\n",
    "import plotly.graph_objects as go\n",
    "import re\n",
    "import statsmodels.tsa.api as smt\n",
    "import statsmodels.api as sm\n",
    "import datetime\n",
    "import warnings\n",
    "warnings.filterwarnings('ignore')\n",
    "\n",
    "%matplotlib inline\n",
    "\n",
    "from pandas import DataFrame\n",
    "\n",
    "from sklearn.linear_model import LinearRegression\n",
    "from sklearn.neighbors import KNeighborsRegressor\n",
    "from sklearn.preprocessing import MinMaxScaler\n",
    "from sklearn.model_selection import GridSearchCV\n",
    "\n",
    "from keras.models import Sequential\n",
    "from keras.layers import Dense, Dropout, LSTM\n",
    "\n",
    "\n",
    "\n",
    "from statsmodels.tsa.stattools import adfuller\n",
    "from statsmodels.graphics.tsaplots import plot_acf, plot_pacf\n"
   ]
  },
  {
   "cell_type": "code",
   "execution_count": 10,
   "id": "4a4feee0-662a-4580-a166-5ca4e7c7969f",
   "metadata": {},
   "outputs": [
    {
     "name": "stdout",
     "output_type": "stream",
     "text": [
      "[*********************100%***********************]  1 of 1 completed\n"
     ]
    }
   ],
   "source": [
    "azn_df = yf.download(\"AZN.L\", start=\"2010-01-01\", end=\"2022-01-01\")[['Adj Close','Open', 'High', 'Low', 'Close', 'Volume']].round(2)"
   ]
  },
  {
   "cell_type": "code",
   "execution_count": 11,
   "id": "c5ed67a5-83ff-4d2e-b8fd-76aa4e314383",
   "metadata": {},
   "outputs": [
    {
     "data": {
      "text/html": [
       "<div>\n",
       "<style scoped>\n",
       "    .dataframe tbody tr th:only-of-type {\n",
       "        vertical-align: middle;\n",
       "    }\n",
       "\n",
       "    .dataframe tbody tr th {\n",
       "        vertical-align: top;\n",
       "    }\n",
       "\n",
       "    .dataframe thead th {\n",
       "        text-align: right;\n",
       "    }\n",
       "</style>\n",
       "<table border=\"1\" class=\"dataframe\">\n",
       "  <thead>\n",
       "    <tr style=\"text-align: right;\">\n",
       "      <th></th>\n",
       "      <th>Date</th>\n",
       "      <th>Adj Close</th>\n",
       "    </tr>\n",
       "  </thead>\n",
       "  <tbody>\n",
       "    <tr>\n",
       "      <th>0</th>\n",
       "      <td>2009-12-31</td>\n",
       "      <td>1681.68</td>\n",
       "    </tr>\n",
       "    <tr>\n",
       "      <th>1</th>\n",
       "      <td>2010-01-04</td>\n",
       "      <td>1699.30</td>\n",
       "    </tr>\n",
       "    <tr>\n",
       "      <th>2</th>\n",
       "      <td>2010-01-05</td>\n",
       "      <td>1679.94</td>\n",
       "    </tr>\n",
       "    <tr>\n",
       "      <th>3</th>\n",
       "      <td>2010-01-06</td>\n",
       "      <td>1661.16</td>\n",
       "    </tr>\n",
       "    <tr>\n",
       "      <th>4</th>\n",
       "      <td>2010-01-07</td>\n",
       "      <td>1681.68</td>\n",
       "    </tr>\n",
       "    <tr>\n",
       "      <th>...</th>\n",
       "      <td>...</td>\n",
       "      <td>...</td>\n",
       "    </tr>\n",
       "    <tr>\n",
       "      <th>3029</th>\n",
       "      <td>2021-12-23</td>\n",
       "      <td>8457.35</td>\n",
       "    </tr>\n",
       "    <tr>\n",
       "      <th>3030</th>\n",
       "      <td>2021-12-24</td>\n",
       "      <td>8472.10</td>\n",
       "    </tr>\n",
       "    <tr>\n",
       "      <th>3031</th>\n",
       "      <td>2021-12-29</td>\n",
       "      <td>8516.38</td>\n",
       "    </tr>\n",
       "    <tr>\n",
       "      <th>3032</th>\n",
       "      <td>2021-12-30</td>\n",
       "      <td>8533.10</td>\n",
       "    </tr>\n",
       "    <tr>\n",
       "      <th>3033</th>\n",
       "      <td>2021-12-31</td>\n",
       "      <td>8538.02</td>\n",
       "    </tr>\n",
       "  </tbody>\n",
       "</table>\n",
       "<p>3034 rows × 2 columns</p>\n",
       "</div>"
      ],
      "text/plain": [
       "           Date  Adj Close\n",
       "0    2009-12-31    1681.68\n",
       "1    2010-01-04    1699.30\n",
       "2    2010-01-05    1679.94\n",
       "3    2010-01-06    1661.16\n",
       "4    2010-01-07    1681.68\n",
       "...         ...        ...\n",
       "3029 2021-12-23    8457.35\n",
       "3030 2021-12-24    8472.10\n",
       "3031 2021-12-29    8516.38\n",
       "3032 2021-12-30    8533.10\n",
       "3033 2021-12-31    8538.02\n",
       "\n",
       "[3034 rows x 2 columns]"
      ]
     },
     "execution_count": 11,
     "metadata": {},
     "output_type": "execute_result"
    }
   ],
   "source": [
    "azn_adj = azn_df[['Adj Close']]\n",
    "azn_adj=azn_adj.reset_index(level=0) \n",
    "azn_adj"
   ]
  },
  {
   "cell_type": "code",
   "execution_count": 12,
   "id": "820edbd1-a6bd-4a89-a178-3b517db20005",
   "metadata": {},
   "outputs": [],
   "source": [
    "split = int(0.8*len(azn_adj))"
   ]
  },
  {
   "cell_type": "code",
   "execution_count": 13,
   "id": "efcf8e89-792b-4b55-b084-9ec252f4a178",
   "metadata": {},
   "outputs": [],
   "source": [
    "train, test = azn_adj[:split], azn_adj[split:]"
   ]
  },
  {
   "cell_type": "code",
   "execution_count": 14,
   "id": "ce7a80fe-ad61-4f0f-b4ef-9f96135cdb29",
   "metadata": {},
   "outputs": [
    {
     "data": {
      "text/plain": [
       "((3034, 2), (2427, 2), (607, 2))"
      ]
     },
     "execution_count": 14,
     "metadata": {},
     "output_type": "execute_result"
    }
   ],
   "source": [
    "azn_adj.shape, train.shape, test.shape"
   ]
  },
  {
   "cell_type": "code",
   "execution_count": 15,
   "id": "d4b67635-14b7-4b89-a4f9-e7cf645b97e3",
   "metadata": {},
   "outputs": [],
   "source": [
    "preds = []\n",
    "for i in range(0,607):\n",
    "    a = train[len(train)-504+i:].sum() + sum(preds)\n",
    "    b = a/607\n",
    "    preds.append(b)"
   ]
  },
  {
   "cell_type": "code",
   "execution_count": 16,
   "id": "fb4868fc-0a4b-4b9a-9e6b-42132cc59f47",
   "metadata": {},
   "outputs": [
    {
     "ename": "ConversionError",
     "evalue": "Failed to convert value(s) to axis units: array([Adj Close    4123.393097\ndtype: float64,\n       Adj Close    4123.93872\ndtype: float64,\n       Adj Close    4124.448191\ndtype: float64,\n       Adj Close    4124.892241\ndtype: float64,\n       Adj Close    4125.321338\ndtype: float64,\n       Adj Close    4125.7319\ndtype: float64,\n       Adj Close    4126.191591\ndtype: float64,\n       Adj Close    4126.693372\ndtype: float64,\n       Adj Close    4127.17318\ndtype: float64,\n       Adj Close    4127.566843\ndtype: float64,\n       Adj Close    4127.897744\ndtype: float64,\n       Adj Close    4128.287625\ndtype: float64,\n       Adj Close    4128.688115\ndtype: float64,\n       Adj Close    4129.144125\ndtype: float64,\n       Adj Close    4129.475483\ndtype: float64,\n       Adj Close    4129.733993\ndtype: float64,\n       Adj Close    4130.008612\ndtype: float64,\n       Adj Close    4130.295084\ndtype: float64,\n       Adj Close    4130.577745\ndtype: float64,\n       Adj Close    4130.579422\ndtype: float64,\n       Adj Close    4130.558301\ndtype: float64,\n       Adj Close    4130.39464\ndtype: float64,\n       Adj Close    4130.180842\ndtype: float64,\n       Adj Close    4130.079987\ndtype: float64,\n       Adj Close    4130.035242\ndtype: float64,\n       Adj Close    4130.113703\ndtype: float64,\n       Adj Close    4130.205834\ndtype: float64,\n       Adj Close    4130.206898\ndtype: float64,\n       Adj Close    4130.239331\ndtype: float64,\n       Adj Close    4130.248292\ndtype: float64,\n       Adj Close    4130.05277\ndtype: float64,\n       Adj Close    4129.831276\ndtype: float64,\n       Adj Close    4129.669268\ndtype: float64,\n       Adj Close    4129.514835\ndtype: float64,\n       Adj Close    4129.322388\ndtype: float64,\n       Adj Close    4129.064073\ndtype: float64,\n       Adj Close    4128.654277\ndtype: float64,\n       Adj Close    4128.222422\ndtype: float64,\n       Adj Close    4127.785589\ndtype: float64,\n       Adj Close    4127.316686\ndtype: float64,\n       Adj Close    4126.771475\ndtype: float64,\n       Adj Close    4126.199714\ndtype: float64,\n       Adj Close    4125.632712\ndtype: float64,\n       Adj Close    4125.093277\ndtype: float64,\n       Adj Close    4124.544402\ndtype: float64,\n       Adj Close    4124.033108\ndtype: float64,\n       Adj Close    4123.48107\ndtype: float64,\n       Adj Close    4122.91244\ndtype: float64,\n       Adj Close    4122.328622\ndtype: float64,\n       Adj Close    4121.745275\ndtype: float64,\n       Adj Close    4121.179485\ndtype: float64,\n       Adj Close    4120.644113\ndtype: float64,\n       Adj Close    4120.194795\ndtype: float64,\n       Adj Close    4119.750438\ndtype: float64,\n       Adj Close    4119.340965\ndtype: float64,\n       Adj Close    4118.97072\ndtype: float64,\n       Adj Close    4118.598448\ndtype: float64,\n       Adj Close    4118.212728\ndtype: float64,\n       Adj Close    4117.651102\ndtype: float64,\n       Adj Close    4117.092817\ndtype: float64,\n       Adj Close    4116.493711\ndtype: float64,\n       Adj Close    4115.963454\ndtype: float64,\n       Adj Close    4115.584794\ndtype: float64,\n       Adj Close    4115.248262\ndtype: float64,\n       Adj Close    4114.956776\ndtype: float64,\n       Adj Close    4114.795914\ndtype: float64,\n       Adj Close    4114.549284\ndtype: float64,\n       Adj Close    4114.260222\ndtype: float64,\n       Adj Close    4113.925066\ndtype: float64,\n       Adj Close    4113.561582\ndtype: float64,\n       Adj Close    4113.2488\ndtype: float64,\n       Adj Close    4112.956163\ndtype: float64,\n       Adj Close    4112.555448\ndtype: float64,\n       Adj Close    4112.195407\ndtype: float64,\n       Adj Close    4111.845466\ndtype: float64,\n       Adj Close    4111.518457\ndtype: float64,\n       Adj Close    4111.211568\ndtype: float64,\n       Adj Close    4110.911307\ndtype: float64,\n       Adj Close    4110.701029\ndtype: float64,\n       Adj Close    4110.665693\ndtype: float64,\n       Adj Close    4110.644549\ndtype: float64,\n       Adj Close    4110.654721\ndtype: float64,\n       Adj Close    4110.697694\ndtype: float64,\n       Adj Close    4110.738597\ndtype: float64,\n       Adj Close    4110.805925\ndtype: float64,\n       Adj Close    4110.760779\ndtype: float64,\n       Adj Close    4110.583037\ndtype: float64,\n       Adj Close    4110.32235\ndtype: float64,\n       Adj Close    4110.091876\ndtype: float64,\n       Adj Close    4109.902341\ndtype: float64,\n       Adj Close    4109.717484\ndtype: float64,\n       Adj Close    4109.488864\ndtype: float64,\n       Adj Close    4109.294068\ndtype: float64,\n       Adj Close    4109.138128\ndtype: float64,\n       Adj Close    4108.892869\ndtype: float64,\n       Adj Close    4108.619414\ndtype: float64,\n       Adj Close    4108.340534\ndtype: float64,\n       Adj Close    4107.985658\ndtype: float64,\n       Adj Close    4107.455634\ndtype: float64,\n       Adj Close    4106.947538\ndtype: float64,\n       Adj Close    4106.351669\ndtype: float64,\n       Adj Close    4105.747702\ndtype: float64,\n       Adj Close    4105.095704\ndtype: float64,\n       Adj Close    4104.515318\ndtype: float64,\n       Adj Close    4103.918293\ndtype: float64,\n       Adj Close    4103.360184\ndtype: float64,\n       Adj Close    4102.806857\ndtype: float64,\n       Adj Close    4102.252618\ndtype: float64,\n       Adj Close    4101.700316\ndtype: float64,\n       Adj Close    4101.26254\ndtype: float64,\n       Adj Close    4100.907404\ndtype: float64,\n       Adj Close    4100.565934\ndtype: float64,\n       Adj Close    4100.13484\ndtype: float64,\n       Adj Close    4099.687352\ndtype: float64,\n       Adj Close    4099.172158\ndtype: float64,\n       Adj Close    4098.841371\ndtype: float64,\n       Adj Close    4098.470846\ndtype: float64,\n       Adj Close    4097.962198\ndtype: float64,\n       Adj Close    4097.46553\ndtype: float64,\n       Adj Close    4097.070646\ndtype: float64,\n       Adj Close    4096.856808\ndtype: float64,\n       Adj Close    4096.643327\ndtype: float64,\n       Adj Close    4096.215738\ndtype: float64,\n       Adj Close    4096.000492\ndtype: float64,\n       Adj Close    4096.010048\ndtype: float64,\n       Adj Close    4095.9327\ndtype: float64,\n       Adj Close    4095.776132\ndtype: float64,\n       Adj Close    4095.726191\ndtype: float64,\n       Adj Close    4095.547898\ndtype: float64,\n       Adj Close    4095.411354\ndtype: float64,\n       Adj Close    4095.275294\ndtype: float64,\n       Adj Close    4095.113952\ndtype: float64,\n       Adj Close    4094.914238\ndtype: float64,\n       Adj Close    4094.753768\ndtype: float64,\n       Adj Close    4094.579111\ndtype: float64,\n       Adj Close    4094.290593\ndtype: float64,\n       Adj Close    4094.041895\ndtype: float64,\n       Adj Close    4093.822096\ndtype: float64,\n       Adj Close    4093.511803\ndtype: float64,\n       Adj Close    4093.228116\ndtype: float64,\n       Adj Close    4092.973269\ndtype: float64,\n       Adj Close    4092.731923\ndtype: float64,\n       Adj Close    4092.533426\ndtype: float64,\n       Adj Close    4092.240796\ndtype: float64,\n       Adj Close    4091.954273\ndtype: float64,\n       Adj Close    4091.72517\ndtype: float64,\n       Adj Close    4091.409231\ndtype: float64,\n       Adj Close    4091.136001\ndtype: float64,\n       Adj Close    4090.841068\ndtype: float64,\n       Adj Close    4090.570559\ndtype: float64,\n       Adj Close    4090.325997\ndtype: float64,\n       Adj Close    4090.031196\ndtype: float64,\n       Adj Close    4089.636256\ndtype: float64,\n       Adj Close    4089.269231\ndtype: float64,\n       Adj Close    4088.871569\ndtype: float64,\n       Adj Close    4088.48864\ndtype: float64,\n       Adj Close    4088.140252\ndtype: float64,\n       Adj Close    4087.857979\ndtype: float64,\n       Adj Close    4087.616262\ndtype: float64,\n       Adj Close    4087.21881\ndtype: float64,\n       Adj Close    4086.706386\ndtype: float64,\n       Adj Close    4086.264189\ndtype: float64,\n       Adj Close    4085.776568\ndtype: float64,\n       Adj Close    4085.374618\ndtype: float64,\n       Adj Close    4084.766817\ndtype: float64,\n       Adj Close    4084.182199\ndtype: float64,\n       Adj Close    4083.590028\ndtype: float64,\n       Adj Close    4082.8767\ndtype: float64,\n       Adj Close    4082.172444\ndtype: float64,\n       Adj Close    4081.503667\ndtype: float64,\n       Adj Close    4080.88509\ndtype: float64,\n       Adj Close    4080.403995\ndtype: float64,\n       Adj Close    4079.905254\ndtype: float64,\n       Adj Close    4079.350732\ndtype: float64,\n       Adj Close    4078.808476\ndtype: float64,\n       Adj Close    4078.235294\ndtype: float64,\n       Adj Close    4077.604001\ndtype: float64,\n       Adj Close    4077.009049\ndtype: float64,\n       Adj Close    4076.410909\ndtype: float64,\n       Adj Close    4075.810317\ndtype: float64,\n       Adj Close    4075.075375\ndtype: float64,\n       Adj Close    4074.309915\ndtype: float64,\n       Adj Close    4073.381974\ndtype: float64,\n       Adj Close    4072.468616\ndtype: float64,\n       Adj Close    4071.556687\ndtype: float64,\n       Adj Close    4070.63594\ndtype: float64,\n       Adj Close    4069.663841\ndtype: float64,\n       Adj Close    4068.663765\ndtype: float64,\n       Adj Close    4067.669356\ndtype: float64,\n       Adj Close    4066.633737\ndtype: float64,\n       Adj Close    4065.572969\ndtype: float64,\n       Adj Close    4064.514852\ndtype: float64,\n       Adj Close    4063.416886\ndtype: float64,\n       Adj Close    4062.27754\ndtype: float64,\n       Adj Close    4061.288739\ndtype: float64,\n       Adj Close    4060.040368\ndtype: float64,\n       Adj Close    4058.735706\ndtype: float64,\n       Adj Close    4057.428895\ndtype: float64,\n       Adj Close    4056.158036\ndtype: float64,\n       Adj Close    4054.811806\ndtype: float64,\n       Adj Close    4053.574741\ndtype: float64,\n       Adj Close    4052.243316\ndtype: float64,\n       Adj Close    4050.908231\ndtype: float64,\n       Adj Close    4049.636893\ndtype: float64,\n       Adj Close    4048.364928\ndtype: float64,\n       Adj Close    4047.152415\ndtype: float64,\n       Adj Close    4045.945236\ndtype: float64,\n       Adj Close    4044.784438\ndtype: float64,\n       Adj Close    4043.602666\ndtype: float64,\n       Adj Close    4042.39697\ndtype: float64,\n       Adj Close    4041.240573\ndtype: float64,\n       Adj Close    4040.044165\ndtype: float64,\n       Adj Close    4038.715358\ndtype: float64,\n       Adj Close    4037.457641\ndtype: float64,\n       Adj Close    4036.219828\ndtype: float64,\n       Adj Close    4035.0093\ndtype: float64,\n       Adj Close    4033.773319\ndtype: float64,\n       Adj Close    4032.717031\ndtype: float64,\n       Adj Close    4031.697109\ndtype: float64,\n       Adj Close    4030.716544\ndtype: float64,\n       Adj Close    4029.72265\ndtype: float64,\n       Adj Close    4028.683149\ndtype: float64,\n       Adj Close    4027.663912\ndtype: float64,\n       Adj Close    4026.600491\ndtype: float64,\n       Adj Close    4025.639389\ndtype: float64,\n       Adj Close    4024.645911\ndtype: float64,\n       Adj Close    4023.681588\ndtype: float64,\n       Adj Close    4022.71421\ndtype: float64,\n       Adj Close    4021.718847\ndtype: float64,\n       Adj Close    4020.6427\ndtype: float64,\n       Adj Close    4019.526675\ndtype: float64,\n       Adj Close    4018.454247\ndtype: float64,\n       Adj Close    4017.110383\ndtype: float64,\n       Adj Close    4015.66465\ndtype: float64,\n       Adj Close    4014.263126\ndtype: float64,\n       Adj Close    4012.740891\ndtype: float64,\n       Adj Close    4011.135538\ndtype: float64,\n       Adj Close    4009.523142\ndtype: float64,\n       Adj Close    4007.937397\ndtype: float64,\n       Adj Close    4006.354905\ndtype: float64,\n       Adj Close    4004.743431\ndtype: float64,\n       Adj Close    4003.187917\ndtype: float64,\n       Adj Close    4001.288359\ndtype: float64,\n       Adj Close    3999.476544\ndtype: float64,\n       Adj Close    3997.639751\ndtype: float64,\n       Adj Close    3995.629932\ndtype: float64,\n       Adj Close    3993.703276\ndtype: float64,\n       Adj Close    3991.767581\ndtype: float64,\n       Adj Close    3989.77593\ndtype: float64,\n       Adj Close    3987.817636\ndtype: float64,\n       Adj Close    3985.689049\ndtype: float64,\n       Adj Close    3983.477812\ndtype: float64,\n       Adj Close    3981.032536\ndtype: float64,\n       Adj Close    3978.537269\ndtype: float64,\n       Adj Close    3976.119439\ndtype: float64,\n       Adj Close    3973.752486\ndtype: float64,\n       Adj Close    3971.489854\ndtype: float64,\n       Adj Close    3969.232391\ndtype: float64,\n       Adj Close    3966.980105\ndtype: float64,\n       Adj Close    3964.651456\ndtype: float64,\n       Adj Close    3962.353073\ndtype: float64,\n       Adj Close    3960.079075\ndtype: float64,\n       Adj Close    3957.884345\ndtype: float64,\n       Adj Close    3955.678586\ndtype: float64,\n       Adj Close    3953.426211\ndtype: float64,\n       Adj Close    3951.20866\ndtype: float64,\n       Adj Close    3948.956318\ndtype: float64,\n       Adj Close    3946.87076\ndtype: float64,\n       Adj Close    3944.642409\ndtype: float64,\n       Adj Close    3942.54233\ndtype: float64,\n       Adj Close    3940.585563\ndtype: float64,\n       Adj Close    3938.723431\ndtype: float64,\n       Adj Close    3936.83599\ndtype: float64,\n       Adj Close    3934.866857\ndtype: float64,\n       Adj Close    3932.851497\ndtype: float64,\n       Adj Close    3930.855042\ndtype: float64,\n       Adj Close    3928.984292\ndtype: float64,\n       Adj Close    3927.08822\ndtype: float64,\n       Adj Close    3925.22311\ndtype: float64,\n       Adj Close    3923.374203\ndtype: float64,\n       Adj Close    3921.534111\ndtype: float64,\n       Adj Close    3919.733986\ndtype: float64,\n       Adj Close    3917.785607\ndtype: float64,\n       Adj Close    3915.860707\ndtype: float64,\n       Adj Close    3913.723591\ndtype: float64,\n       Adj Close    3911.508835\ndtype: float64,\n       Adj Close    3909.118455\ndtype: float64,\n       Adj Close    3906.718205\ndtype: float64,\n       Adj Close    3904.273968\ndtype: float64,\n       Adj Close    3901.810877\ndtype: float64,\n       Adj Close    3899.228095\ndtype: float64,\n       Adj Close    3896.75226\ndtype: float64,\n       Adj Close    3894.45172\ndtype: float64,\n       Adj Close    3892.316401\ndtype: float64,\n       Adj Close    3890.251684\ndtype: float64,\n       Adj Close    3888.207288\ndtype: float64,\n       Adj Close    3886.28702\ndtype: float64,\n       Adj Close    3884.467377\ndtype: float64,\n       Adj Close    3882.5365\ndtype: float64,\n       Adj Close    3880.388965\ndtype: float64,\n       Adj Close    3878.094087\ndtype: float64,\n       Adj Close    3875.76874\ndtype: float64,\n       Adj Close    3873.356546\ndtype: float64,\n       Adj Close    3870.879588\ndtype: float64,\n       Adj Close    3868.463789\ndtype: float64,\n       Adj Close    3866.044009\ndtype: float64,\n       Adj Close    3863.796652\ndtype: float64,\n       Adj Close    3861.630106\ndtype: float64,\n       Adj Close    3859.298393\ndtype: float64,\n       Adj Close    3856.848686\ndtype: float64,\n       Adj Close    3854.322292\ndtype: float64,\n       Adj Close    3852.0334\ndtype: float64,\n       Adj Close    3849.881577\ndtype: float64,\n       Adj Close    3847.511233\ndtype: float64,\n       Adj Close    3845.31341\ndtype: float64,\n       Adj Close    3842.965195\ndtype: float64,\n       Adj Close    3840.263227\ndtype: float64,\n       Adj Close    3837.43969\ndtype: float64,\n       Adj Close    3834.494385\ndtype: float64,\n       Adj Close    3831.455281\ndtype: float64,\n       Adj Close    3828.467498\ndtype: float64,\n       Adj Close    3825.409569\ndtype: float64,\n       Adj Close    3822.514132\ndtype: float64,\n       Adj Close    3819.658389\ndtype: float64,\n       Adj Close    3816.686756\ndtype: float64,\n       Adj Close    3813.782879\ndtype: float64,\n       Adj Close    3811.044696\ndtype: float64,\n       Adj Close    3808.144852\ndtype: float64,\n       Adj Close    3805.318814\ndtype: float64,\n       Adj Close    3802.55779\ndtype: float64,\n       Adj Close    3799.75665\ndtype: float64,\n       Adj Close    3796.893069\ndtype: float64,\n       Adj Close    3794.079631\ndtype: float64,\n       Adj Close    3791.209664\ndtype: float64,\n       Adj Close    3788.247505\ndtype: float64,\n       Adj Close    3785.516183\ndtype: float64,\n       Adj Close    3782.924167\ndtype: float64,\n       Adj Close    3780.369396\ndtype: float64,\n       Adj Close    3777.6918\ndtype: float64,\n       Adj Close    3774.866004\ndtype: float64,\n       Adj Close    3772.050363\ndtype: float64,\n       Adj Close    3769.218222\ndtype: float64,\n       Adj Close    3766.339916\ndtype: float64,\n       Adj Close    3763.585847\ndtype: float64,\n       Adj Close    3760.913221\ndtype: float64,\n       Adj Close    3758.261397\ndtype: float64,\n       Adj Close    3755.637825\ndtype: float64,\n       Adj Close    3753.076635\ndtype: float64,\n       Adj Close    3750.42228\ndtype: float64,\n       Adj Close    3748.120834\ndtype: float64,\n       Adj Close    3745.616947\ndtype: float64,\n       Adj Close    3743.080764\ndtype: float64,\n       Adj Close    3740.495922\ndtype: float64,\n       Adj Close    3737.748205\ndtype: float64,\n       Adj Close    3734.878828\ndtype: float64,\n       Adj Close    3732.129255\ndtype: float64,\n       Adj Close    3729.533784\ndtype: float64,\n       Adj Close    3726.916245\ndtype: float64,\n       Adj Close    3724.275135\ndtype: float64,\n       Adj Close    3721.942475\ndtype: float64,\n       Adj Close    3719.906927\ndtype: float64,\n       Adj Close    3717.796872\ndtype: float64,\n       Adj Close    3715.77377\ndtype: float64,\n       Adj Close    3713.726577\ndtype: float64,\n       Adj Close    3711.587066\ndtype: float64,\n       Adj Close    3709.340257\ndtype: float64,\n       Adj Close    3707.214277\ndtype: float64,\n       Adj Close    3705.06552\ndtype: float64,\n       Adj Close    3703.045166\ndtype: float64,\n       Adj Close    3701.183082\ndtype: float64,\n       Adj Close    3699.386119\ndtype: float64,\n       Adj Close    3697.528386\ndtype: float64,\n       Adj Close    3695.519339\ndtype: float64,\n       Adj Close    3693.406175\ndtype: float64,\n       Adj Close    3691.216877\ndtype: float64,\n       Adj Close    3689.043247\ndtype: float64,\n       Adj Close    3686.656992\ndtype: float64,\n       Adj Close    3684.294977\ndtype: float64,\n       Adj Close    3681.985414\ndtype: float64,\n       Adj Close    3679.606807\ndtype: float64,\n       Adj Close    3677.246521\ndtype: float64,\n       Adj Close    3674.818591\ndtype: float64,\n       Adj Close    3672.391126\ndtype: float64,\n       Adj Close    3669.325131\ndtype: float64,\n       Adj Close    3666.117693\ndtype: float64,\n       Adj Close    3663.030984\ndtype: float64,\n       Adj Close    3660.032584\ndtype: float64,\n       Adj Close    3656.955125\ndtype: float64,\n       Adj Close    3653.942267\ndtype: float64,\n       Adj Close    3650.831052\ndtype: float64,\n       Adj Close    3647.52051\ndtype: float64,\n       Adj Close    3644.232669\ndtype: float64,\n       Adj Close    3640.921619\ndtype: float64,\n       Adj Close    3637.600864\ndtype: float64,\n       Adj Close    3634.203303\ndtype: float64,\n       Adj Close    3630.760673\ndtype: float64,\n       Adj Close    3627.183343\ndtype: float64,\n       Adj Close    3623.586462\ndtype: float64,\n       Adj Close    3620.056506\ndtype: float64,\n       Adj Close    3616.501014\ndtype: float64,\n       Adj Close    3612.872861\ndtype: float64,\n       Adj Close    3609.287314\ndtype: float64,\n       Adj Close    3605.68067\ndtype: float64,\n       Adj Close    3602.043801\ndtype: float64,\n       Adj Close    3598.454071\ndtype: float64,\n       Adj Close    3594.743056\ndtype: float64,\n       Adj Close    3590.998613\ndtype: float64,\n       Adj Close    3587.197903\ndtype: float64,\n       Adj Close    3583.202693\ndtype: float64,\n       Adj Close    3579.465037\ndtype: float64,\n       Adj Close    3575.683283\ndtype: float64,\n       Adj Close    3571.840652\ndtype: float64,\n       Adj Close    3568.076699\ndtype: float64,\n       Adj Close    3564.094025\ndtype: float64,\n       Adj Close    3560.65278\ndtype: float64,\n       Adj Close    3557.15425\ndtype: float64,\n       Adj Close    3553.504224\ndtype: float64,\n       Adj Close    3549.999997\ndtype: float64,\n       Adj Close    3546.561332\ndtype: float64,\n       Adj Close    3543.076029\ndtype: float64,\n       Adj Close    3539.522744\ndtype: float64,\n       Adj Close    3536.016736\ndtype: float64,\n       Adj Close    3532.552002\ndtype: float64,\n       Adj Close    3529.236404\ndtype: float64,\n       Adj Close    3525.960879\ndtype: float64,\n       Adj Close    3522.670848\ndtype: float64,\n       Adj Close    3519.343518\ndtype: float64,\n       Adj Close    3516.164018\ndtype: float64,\n       Adj Close    3513.129577\ndtype: float64,\n       Adj Close    3509.938324\ndtype: float64,\n       Adj Close    3506.75244\ndtype: float64,\n       Adj Close    3503.590154\ndtype: float64,\n       Adj Close    3500.565343\ndtype: float64,\n       Adj Close    3497.467247\ndtype: float64,\n       Adj Close    3494.537094\ndtype: float64,\n       Adj Close    3491.726595\ndtype: float64,\n       Adj Close    3488.844678\ndtype: float64,\n       Adj Close    3485.877553\ndtype: float64,\n       Adj Close    3482.872145\ndtype: float64,\n       Adj Close    3479.752494\ndtype: float64,\n       Adj Close    3476.641362\ndtype: float64,\n       Adj Close    3473.728514\ndtype: float64,\n       Adj Close    3470.835151\ndtype: float64,\n       Adj Close    3467.744237\ndtype: float64,\n       Adj Close    3464.620916\ndtype: float64,\n       Adj Close    3461.402878\ndtype: float64,\n       Adj Close    3458.187133\ndtype: float64,\n       Adj Close    3455.043504\ndtype: float64,\n       Adj Close    3451.827908\ndtype: float64,\n       Adj Close    3448.500755\ndtype: float64,\n       Adj Close    3445.054265\ndtype: float64,\n       Adj Close    3441.486743\ndtype: float64,\n       Adj Close    3438.142553\ndtype: float64,\n       Adj Close    3434.883942\ndtype: float64,\n       Adj Close    3431.644245\ndtype: float64,\n       Adj Close    3428.44323\ndtype: float64,\n       Adj Close    3425.068441\ndtype: float64,\n       Adj Close    3421.622821\ndtype: float64,\n       Adj Close    3418.214028\ndtype: float64,\n       Adj Close    3414.669076\ndtype: float64,\n       Adj Close    3411.144083\ndtype: float64,\n       Adj Close    3407.497912\ndtype: float64,\n       Adj Close    3403.795651\ndtype: float64,\n       Adj Close    3399.994689\ndtype: float64,\n       Adj Close    3396.193543\ndtype: float64,\n       Adj Close    3392.354257\ndtype: float64,\n       Adj Close    3388.455516\ndtype: float64,\n       Adj Close    3384.307469\ndtype: float64,\n       Adj Close    3380.091864\ndtype: float64,\n       Adj Close    3375.814668\ndtype: float64,\n       Adj Close    3371.694362\ndtype: float64,\n       Adj Close    3367.476198\ndtype: float64,\n       Adj Close    3363.245006\ndtype: float64,\n       Adj Close    3359.123729\ndtype: float64,\n       Adj Close    3354.928875\ndtype: float64,\n       Adj Close    3350.683091\ndtype: float64,\n       Adj Close    3346.383244\ndtype: float64,\n       Adj Close    3341.980696\ndtype: float64,\n       Adj Close    3337.464635\ndtype: float64,\n       Adj Close    3332.977558\ndtype: float64,\n       Adj Close    3328.560503\ndtype: float64,\n       Adj Close    3324.272794\ndtype: float64,\n       Adj Close    3319.918812\ndtype: float64,\n       Adj Close    3315.537936\ndtype: float64,\n       Adj Close    3311.312266\ndtype: float64,\n       Adj Close    3307.167673\ndtype: float64,\n       Adj Close    3303.005627\ndtype: float64,\n       Adj Close    3298.71529\ndtype: float64,\n       Adj Close    3294.370818\ndtype: float64,\n       Adj Close    3290.079913\ndtype: float64,\n       Adj Close    3285.80016\ndtype: float64,\n       Adj Close    3281.528529\ndtype: float64,\n       Adj Close    3277.122349\ndtype: float64,\n       Adj Close    3272.8683\ndtype: float64,\n       Adj Close    3267.861905\ndtype: float64,\n       Adj Close    3262.76377\ndtype: float64,\n       Adj Close    3257.239789\ndtype: float64,\n       Adj Close    3251.785654\ndtype: float64,\n       Adj Close    3246.42423\ndtype: float64,\n       Adj Close    3240.842968\ndtype: float64,\n       Adj Close    3235.191803\ndtype: float64,\n       Adj Close    3229.745365\ndtype: float64,\n       Adj Close    3224.324863\ndtype: float64,\n       Adj Close    3218.825612\ndtype: float64,\n       Adj Close    3213.046017\ndtype: float64,\n       Adj Close    3218.339338\ndtype: float64,\n       Adj Close    3223.64138\ndtype: float64,\n       Adj Close    3228.952157\ndtype: float64,\n       Adj Close    3234.271682\ndtype: float64,\n       Adj Close    3239.599972\ndtype: float64,\n       Adj Close    3244.937039\ndtype: float64,\n       Adj Close    3250.282899\ndtype: float64,\n       Adj Close    3255.637566\ndtype: float64,\n       Adj Close    3261.001055\ndtype: float64,\n       Adj Close    3266.37338\ndtype: float64,\n       Adj Close    3271.754555\ndtype: float64,\n       Adj Close    3277.144595\ndtype: float64,\n       Adj Close    3282.543515\ndtype: float64,\n       Adj Close    3287.95133\ndtype: float64,\n       Adj Close    3293.368054\ndtype: float64,\n       Adj Close    3298.793701\ndtype: float64,\n       Adj Close    3304.228287\ndtype: float64,\n       Adj Close    3309.671827\ndtype: float64,\n       Adj Close    3315.124334\ndtype: float64,\n       Adj Close    3320.585824\ndtype: float64,\n       Adj Close    3326.056311\ndtype: float64,\n       Adj Close    3331.535811\ndtype: float64,\n       Adj Close    3337.024338\ndtype: float64,\n       Adj Close    3342.521906\ndtype: float64,\n       Adj Close    3348.028532\ndtype: float64,\n       Adj Close    3353.54423\ndtype: float64,\n       Adj Close    3359.069015\ndtype: float64,\n       Adj Close    3364.602901\ndtype: float64,\n       Adj Close    3370.145904\ndtype: float64,\n       Adj Close    3375.698039\ndtype: float64,\n       Adj Close    3381.259321\ndtype: float64,\n       Adj Close    3386.829765\ndtype: float64,\n       Adj Close    3392.409385\ndtype: float64,\n       Adj Close    3397.998198\ndtype: float64,\n       Adj Close    3403.596218\ndtype: float64,\n       Adj Close    3409.203461\ndtype: float64,\n       Adj Close    3414.819941\ndtype: float64,\n       Adj Close    3420.445674\ndtype: float64,\n       Adj Close    3426.080675\ndtype: float64,\n       Adj Close    3431.724959\ndtype: float64,\n       Adj Close    3437.378543\ndtype: float64,\n       Adj Close    3443.04144\ndtype: float64,\n       Adj Close    3448.713666\ndtype: float64,\n       Adj Close    3454.395237\ndtype: float64,\n       Adj Close    3460.086168\ndtype: float64,\n       Adj Close    3465.786475\ndtype: float64,\n       Adj Close    3471.496173\ndtype: float64,\n       Adj Close    3477.215277\ndtype: float64,\n       Adj Close    3482.943803\ndtype: float64,\n       Adj Close    3488.681766\ndtype: float64,\n       Adj Close    3494.429183\ndtype: float64,\n       Adj Close    3500.186068\ndtype: float64,\n       Adj Close    3505.952437\ndtype: float64,\n       Adj Close    3511.728306\ndtype: float64,\n       Adj Close    3517.51369\ndtype: float64,\n       Adj Close    3523.308606\ndtype: float64,\n       Adj Close    3529.113068\ndtype: float64,\n       Adj Close    3534.927093\ndtype: float64,\n       Adj Close    3540.750696\ndtype: float64,\n       Adj Close    3546.583893\ndtype: float64,\n       Adj Close    3552.4267\ndtype: float64,\n       Adj Close    3558.279133\ndtype: float64,\n       Adj Close    3564.141207\ndtype: float64,\n       Adj Close    3570.012939\ndtype: float64,\n       Adj Close    3575.894344\ndtype: float64,\n       Adj Close    3581.785439\ndtype: float64,\n       Adj Close    3587.686238\ndtype: float64,\n       Adj Close    3593.596759\ndtype: float64,\n       Adj Close    3599.517018\ndtype: float64,\n       Adj Close    3605.447029\ndtype: float64,\n       Adj Close    3611.38681\ndtype: float64,\n       Adj Close    3617.336377\ndtype: float64,\n       Adj Close    3623.295745\ndtype: float64,\n       Adj Close    3629.26493\ndtype: float64,\n       Adj Close    3635.24395\ndtype: float64,\n       Adj Close    3641.23282\ndtype: float64,\n       Adj Close    3647.231556\ndtype: float64,\n       Adj Close    3653.240175\ndtype: float64,\n       Adj Close    3659.258692\ndtype: float64,\n       Adj Close    3665.287125\ndtype: float64,\n       Adj Close    3671.325489\ndtype: float64,\n       Adj Close    3677.373801\ndtype: float64,\n       Adj Close    3683.432078\ndtype: float64,\n       Adj Close    3689.500335\ndtype: float64,\n       Adj Close    3695.578589\ndtype: float64,\n       Adj Close    3701.666857\ndtype: float64,\n       Adj Close    3707.765155\ndtype: float64,\n       Adj Close    3713.8735\ndtype: float64,\n       Adj Close    3719.991907\ndtype: float64,\n       Adj Close    3726.120395\ndtype: float64,\n       Adj Close    3732.258979\ndtype: float64,\n       Adj Close    3738.407675\ndtype: float64,\n       Adj Close    3744.566502\ndtype: float64,\n       Adj Close    3750.735475\ndtype: float64,\n       Adj Close    3756.914611\ndtype: float64,\n       Adj Close    3763.103926\ndtype: float64,\n       Adj Close    3769.303439\ndtype: float64,\n       Adj Close    3775.513164\ndtype: float64,\n       Adj Close    3781.73312\ndtype: float64,\n       Adj Close    3787.963323\ndtype: float64,\n       Adj Close    3794.20379\ndtype: float64,\n       Adj Close    3800.454537\ndtype: float64], dtype=object)",
     "output_type": "error",
     "traceback": [
      "\u001b[1;31m---------------------------------------------------------------------------\u001b[0m",
      "\u001b[1;31mValueError\u001b[0m                                Traceback (most recent call last)",
      "\u001b[1;32mc:\\users\\abdulhameed\\appdata\\local\\programs\\python\\python39\\lib\\site-packages\\matplotlib\\axis.py\u001b[0m in \u001b[0;36mconvert_units\u001b[1;34m(self, x)\u001b[0m\n\u001b[0;32m   1505\u001b[0m         \u001b[1;32mtry\u001b[0m\u001b[1;33m:\u001b[0m\u001b[1;33m\u001b[0m\u001b[1;33m\u001b[0m\u001b[0m\n\u001b[1;32m-> 1506\u001b[1;33m             \u001b[0mret\u001b[0m \u001b[1;33m=\u001b[0m \u001b[0mself\u001b[0m\u001b[1;33m.\u001b[0m\u001b[0mconverter\u001b[0m\u001b[1;33m.\u001b[0m\u001b[0mconvert\u001b[0m\u001b[1;33m(\u001b[0m\u001b[0mx\u001b[0m\u001b[1;33m,\u001b[0m \u001b[0mself\u001b[0m\u001b[1;33m.\u001b[0m\u001b[0munits\u001b[0m\u001b[1;33m,\u001b[0m \u001b[0mself\u001b[0m\u001b[1;33m)\u001b[0m\u001b[1;33m\u001b[0m\u001b[1;33m\u001b[0m\u001b[0m\n\u001b[0m\u001b[0;32m   1507\u001b[0m         \u001b[1;32mexcept\u001b[0m \u001b[0mException\u001b[0m \u001b[1;32mas\u001b[0m \u001b[0me\u001b[0m\u001b[1;33m:\u001b[0m\u001b[1;33m\u001b[0m\u001b[1;33m\u001b[0m\u001b[0m\n",
      "\u001b[1;32mc:\\users\\abdulhameed\\appdata\\local\\programs\\python\\python39\\lib\\site-packages\\matplotlib\\dates.py\u001b[0m in \u001b[0;36mconvert\u001b[1;34m(self, *args, **kwargs)\u001b[0m\n\u001b[0;32m   1919\u001b[0m     \u001b[1;32mdef\u001b[0m \u001b[0mconvert\u001b[0m\u001b[1;33m(\u001b[0m\u001b[0mself\u001b[0m\u001b[1;33m,\u001b[0m \u001b[1;33m*\u001b[0m\u001b[0margs\u001b[0m\u001b[1;33m,\u001b[0m \u001b[1;33m**\u001b[0m\u001b[0mkwargs\u001b[0m\u001b[1;33m)\u001b[0m\u001b[1;33m:\u001b[0m\u001b[1;33m\u001b[0m\u001b[1;33m\u001b[0m\u001b[0m\n\u001b[1;32m-> 1920\u001b[1;33m         \u001b[1;32mreturn\u001b[0m \u001b[0mself\u001b[0m\u001b[1;33m.\u001b[0m\u001b[0m_get_converter\u001b[0m\u001b[1;33m(\u001b[0m\u001b[1;33m)\u001b[0m\u001b[1;33m.\u001b[0m\u001b[0mconvert\u001b[0m\u001b[1;33m(\u001b[0m\u001b[1;33m*\u001b[0m\u001b[0margs\u001b[0m\u001b[1;33m,\u001b[0m \u001b[1;33m**\u001b[0m\u001b[0mkwargs\u001b[0m\u001b[1;33m)\u001b[0m\u001b[1;33m\u001b[0m\u001b[1;33m\u001b[0m\u001b[0m\n\u001b[0m\u001b[0;32m   1921\u001b[0m \u001b[1;33m\u001b[0m\u001b[0m\n",
      "\u001b[1;32mc:\\users\\abdulhameed\\appdata\\local\\programs\\python\\python39\\lib\\site-packages\\matplotlib\\dates.py\u001b[0m in \u001b[0;36mconvert\u001b[1;34m(value, unit, axis)\u001b[0m\n\u001b[0;32m   1848\u001b[0m         \"\"\"\n\u001b[1;32m-> 1849\u001b[1;33m         \u001b[1;32mreturn\u001b[0m \u001b[0mdate2num\u001b[0m\u001b[1;33m(\u001b[0m\u001b[0mvalue\u001b[0m\u001b[1;33m)\u001b[0m\u001b[1;33m\u001b[0m\u001b[1;33m\u001b[0m\u001b[0m\n\u001b[0m\u001b[0;32m   1850\u001b[0m \u001b[1;33m\u001b[0m\u001b[0m\n",
      "\u001b[1;32mc:\\users\\abdulhameed\\appdata\\local\\programs\\python\\python39\\lib\\site-packages\\matplotlib\\dates.py\u001b[0m in \u001b[0;36mdate2num\u001b[1;34m(d)\u001b[0m\n\u001b[0;32m    446\u001b[0m             \u001b[0md\u001b[0m \u001b[1;33m=\u001b[0m \u001b[0mnp\u001b[0m\u001b[1;33m.\u001b[0m\u001b[0masarray\u001b[0m\u001b[1;33m(\u001b[0m\u001b[0md\u001b[0m\u001b[1;33m)\u001b[0m\u001b[1;33m\u001b[0m\u001b[1;33m\u001b[0m\u001b[0m\n\u001b[1;32m--> 447\u001b[1;33m         \u001b[0md\u001b[0m \u001b[1;33m=\u001b[0m \u001b[0md\u001b[0m\u001b[1;33m.\u001b[0m\u001b[0mastype\u001b[0m\u001b[1;33m(\u001b[0m\u001b[1;34m'datetime64[us]'\u001b[0m\u001b[1;33m)\u001b[0m\u001b[1;33m\u001b[0m\u001b[1;33m\u001b[0m\u001b[0m\n\u001b[0m\u001b[0;32m    448\u001b[0m \u001b[1;33m\u001b[0m\u001b[0m\n",
      "\u001b[1;31mValueError\u001b[0m: Could not convert object to NumPy datetime",
      "\nThe above exception was the direct cause of the following exception:\n",
      "\u001b[1;31mConversionError\u001b[0m                           Traceback (most recent call last)",
      "\u001b[1;32mC:\\Users\\ABDULH~1\\AppData\\Local\\Temp/ipykernel_16008/3580945011.py\u001b[0m in \u001b[0;36m<module>\u001b[1;34m\u001b[0m\n\u001b[0;32m      5\u001b[0m \u001b[0mplt\u001b[0m\u001b[1;33m.\u001b[0m\u001b[0mplot\u001b[0m\u001b[1;33m(\u001b[0m\u001b[0mtrain\u001b[0m\u001b[1;33m,\u001b[0m \u001b[0mlabel\u001b[0m\u001b[1;33m=\u001b[0m\u001b[1;34m'Training'\u001b[0m\u001b[1;33m)\u001b[0m\u001b[1;33m\u001b[0m\u001b[1;33m\u001b[0m\u001b[0m\n\u001b[0;32m      6\u001b[0m \u001b[0mplt\u001b[0m\u001b[1;33m.\u001b[0m\u001b[0mplot\u001b[0m\u001b[1;33m(\u001b[0m\u001b[0mtest\u001b[0m\u001b[1;33m[\u001b[0m\u001b[1;34m'Adj Close'\u001b[0m\u001b[1;33m]\u001b[0m\u001b[1;33m,\u001b[0m \u001b[0mlabel\u001b[0m\u001b[1;33m=\u001b[0m\u001b[1;34m'Actual'\u001b[0m\u001b[1;33m)\u001b[0m\u001b[1;33m\u001b[0m\u001b[1;33m\u001b[0m\u001b[0m\n\u001b[1;32m----> 7\u001b[1;33m \u001b[0mplt\u001b[0m\u001b[1;33m.\u001b[0m\u001b[0mplot\u001b[0m\u001b[1;33m(\u001b[0m\u001b[0mtest\u001b[0m\u001b[1;33m[\u001b[0m\u001b[1;34m'Predictions'\u001b[0m\u001b[1;33m]\u001b[0m\u001b[1;33m,\u001b[0m \u001b[0mlabel\u001b[0m\u001b[1;33m=\u001b[0m\u001b[1;34m'Predicted'\u001b[0m\u001b[1;33m)\u001b[0m\u001b[1;33m\u001b[0m\u001b[1;33m\u001b[0m\u001b[0m\n\u001b[0m\u001b[0;32m      8\u001b[0m \u001b[0mplt\u001b[0m\u001b[1;33m.\u001b[0m\u001b[0mtitle\u001b[0m\u001b[1;33m(\u001b[0m\u001b[1;34m\"AZN Adjusted Close Price - Moving Average\"\u001b[0m\u001b[1;33m,\u001b[0m \u001b[0mcolor\u001b[0m \u001b[1;33m=\u001b[0m \u001b[1;34m'black'\u001b[0m\u001b[1;33m,\u001b[0m \u001b[0mfontsize\u001b[0m \u001b[1;33m=\u001b[0m \u001b[1;36m20\u001b[0m\u001b[1;33m)\u001b[0m\u001b[1;33m\u001b[0m\u001b[1;33m\u001b[0m\u001b[0m\n\u001b[0;32m      9\u001b[0m \u001b[0mplt\u001b[0m\u001b[1;33m.\u001b[0m\u001b[0mxlabel\u001b[0m\u001b[1;33m(\u001b[0m\u001b[1;34m'Year'\u001b[0m\u001b[1;33m,\u001b[0m \u001b[0mcolor\u001b[0m \u001b[1;33m=\u001b[0m \u001b[1;34m'black'\u001b[0m\u001b[1;33m,\u001b[0m \u001b[0mfontsize\u001b[0m \u001b[1;33m=\u001b[0m \u001b[1;36m15\u001b[0m\u001b[1;33m)\u001b[0m\u001b[1;33m\u001b[0m\u001b[1;33m\u001b[0m\u001b[0m\n",
      "\u001b[1;32mc:\\users\\abdulhameed\\appdata\\local\\programs\\python\\python39\\lib\\site-packages\\matplotlib\\pyplot.py\u001b[0m in \u001b[0;36mplot\u001b[1;34m(scalex, scaley, data, *args, **kwargs)\u001b[0m\n\u001b[0;32m   2755\u001b[0m \u001b[1;33m@\u001b[0m\u001b[0m_copy_docstring_and_deprecators\u001b[0m\u001b[1;33m(\u001b[0m\u001b[0mAxes\u001b[0m\u001b[1;33m.\u001b[0m\u001b[0mplot\u001b[0m\u001b[1;33m)\u001b[0m\u001b[1;33m\u001b[0m\u001b[1;33m\u001b[0m\u001b[0m\n\u001b[0;32m   2756\u001b[0m \u001b[1;32mdef\u001b[0m \u001b[0mplot\u001b[0m\u001b[1;33m(\u001b[0m\u001b[1;33m*\u001b[0m\u001b[0margs\u001b[0m\u001b[1;33m,\u001b[0m \u001b[0mscalex\u001b[0m\u001b[1;33m=\u001b[0m\u001b[1;32mTrue\u001b[0m\u001b[1;33m,\u001b[0m \u001b[0mscaley\u001b[0m\u001b[1;33m=\u001b[0m\u001b[1;32mTrue\u001b[0m\u001b[1;33m,\u001b[0m \u001b[0mdata\u001b[0m\u001b[1;33m=\u001b[0m\u001b[1;32mNone\u001b[0m\u001b[1;33m,\u001b[0m \u001b[1;33m**\u001b[0m\u001b[0mkwargs\u001b[0m\u001b[1;33m)\u001b[0m\u001b[1;33m:\u001b[0m\u001b[1;33m\u001b[0m\u001b[1;33m\u001b[0m\u001b[0m\n\u001b[1;32m-> 2757\u001b[1;33m     return gca().plot(\n\u001b[0m\u001b[0;32m   2758\u001b[0m         \u001b[1;33m*\u001b[0m\u001b[0margs\u001b[0m\u001b[1;33m,\u001b[0m \u001b[0mscalex\u001b[0m\u001b[1;33m=\u001b[0m\u001b[0mscalex\u001b[0m\u001b[1;33m,\u001b[0m \u001b[0mscaley\u001b[0m\u001b[1;33m=\u001b[0m\u001b[0mscaley\u001b[0m\u001b[1;33m,\u001b[0m\u001b[1;33m\u001b[0m\u001b[1;33m\u001b[0m\u001b[0m\n\u001b[0;32m   2759\u001b[0m         **({\"data\": data} if data is not None else {}), **kwargs)\n",
      "\u001b[1;32mc:\\users\\abdulhameed\\appdata\\local\\programs\\python\\python39\\lib\\site-packages\\matplotlib\\axes\\_axes.py\u001b[0m in \u001b[0;36mplot\u001b[1;34m(self, scalex, scaley, data, *args, **kwargs)\u001b[0m\n\u001b[0;32m   1632\u001b[0m         \u001b[0mlines\u001b[0m \u001b[1;33m=\u001b[0m \u001b[1;33m[\u001b[0m\u001b[1;33m*\u001b[0m\u001b[0mself\u001b[0m\u001b[1;33m.\u001b[0m\u001b[0m_get_lines\u001b[0m\u001b[1;33m(\u001b[0m\u001b[1;33m*\u001b[0m\u001b[0margs\u001b[0m\u001b[1;33m,\u001b[0m \u001b[0mdata\u001b[0m\u001b[1;33m=\u001b[0m\u001b[0mdata\u001b[0m\u001b[1;33m,\u001b[0m \u001b[1;33m**\u001b[0m\u001b[0mkwargs\u001b[0m\u001b[1;33m)\u001b[0m\u001b[1;33m]\u001b[0m\u001b[1;33m\u001b[0m\u001b[1;33m\u001b[0m\u001b[0m\n\u001b[0;32m   1633\u001b[0m         \u001b[1;32mfor\u001b[0m \u001b[0mline\u001b[0m \u001b[1;32min\u001b[0m \u001b[0mlines\u001b[0m\u001b[1;33m:\u001b[0m\u001b[1;33m\u001b[0m\u001b[1;33m\u001b[0m\u001b[0m\n\u001b[1;32m-> 1634\u001b[1;33m             \u001b[0mself\u001b[0m\u001b[1;33m.\u001b[0m\u001b[0madd_line\u001b[0m\u001b[1;33m(\u001b[0m\u001b[0mline\u001b[0m\u001b[1;33m)\u001b[0m\u001b[1;33m\u001b[0m\u001b[1;33m\u001b[0m\u001b[0m\n\u001b[0m\u001b[0;32m   1635\u001b[0m         \u001b[0mself\u001b[0m\u001b[1;33m.\u001b[0m\u001b[0m_request_autoscale_view\u001b[0m\u001b[1;33m(\u001b[0m\u001b[0mscalex\u001b[0m\u001b[1;33m=\u001b[0m\u001b[0mscalex\u001b[0m\u001b[1;33m,\u001b[0m \u001b[0mscaley\u001b[0m\u001b[1;33m=\u001b[0m\u001b[0mscaley\u001b[0m\u001b[1;33m)\u001b[0m\u001b[1;33m\u001b[0m\u001b[1;33m\u001b[0m\u001b[0m\n\u001b[0;32m   1636\u001b[0m         \u001b[1;32mreturn\u001b[0m \u001b[0mlines\u001b[0m\u001b[1;33m\u001b[0m\u001b[1;33m\u001b[0m\u001b[0m\n",
      "\u001b[1;32mc:\\users\\abdulhameed\\appdata\\local\\programs\\python\\python39\\lib\\site-packages\\matplotlib\\axes\\_base.py\u001b[0m in \u001b[0;36madd_line\u001b[1;34m(self, line)\u001b[0m\n\u001b[0;32m   2281\u001b[0m             \u001b[0mline\u001b[0m\u001b[1;33m.\u001b[0m\u001b[0mset_clip_path\u001b[0m\u001b[1;33m(\u001b[0m\u001b[0mself\u001b[0m\u001b[1;33m.\u001b[0m\u001b[0mpatch\u001b[0m\u001b[1;33m)\u001b[0m\u001b[1;33m\u001b[0m\u001b[1;33m\u001b[0m\u001b[0m\n\u001b[0;32m   2282\u001b[0m \u001b[1;33m\u001b[0m\u001b[0m\n\u001b[1;32m-> 2283\u001b[1;33m         \u001b[0mself\u001b[0m\u001b[1;33m.\u001b[0m\u001b[0m_update_line_limits\u001b[0m\u001b[1;33m(\u001b[0m\u001b[0mline\u001b[0m\u001b[1;33m)\u001b[0m\u001b[1;33m\u001b[0m\u001b[1;33m\u001b[0m\u001b[0m\n\u001b[0m\u001b[0;32m   2284\u001b[0m         \u001b[1;32mif\u001b[0m \u001b[1;32mnot\u001b[0m \u001b[0mline\u001b[0m\u001b[1;33m.\u001b[0m\u001b[0mget_label\u001b[0m\u001b[1;33m(\u001b[0m\u001b[1;33m)\u001b[0m\u001b[1;33m:\u001b[0m\u001b[1;33m\u001b[0m\u001b[1;33m\u001b[0m\u001b[0m\n\u001b[0;32m   2285\u001b[0m             \u001b[0mline\u001b[0m\u001b[1;33m.\u001b[0m\u001b[0mset_label\u001b[0m\u001b[1;33m(\u001b[0m\u001b[1;34mf'_child{len(self._children)}'\u001b[0m\u001b[1;33m)\u001b[0m\u001b[1;33m\u001b[0m\u001b[1;33m\u001b[0m\u001b[0m\n",
      "\u001b[1;32mc:\\users\\abdulhameed\\appdata\\local\\programs\\python\\python39\\lib\\site-packages\\matplotlib\\axes\\_base.py\u001b[0m in \u001b[0;36m_update_line_limits\u001b[1;34m(self, line)\u001b[0m\n\u001b[0;32m   2304\u001b[0m         \u001b[0mFigures\u001b[0m \u001b[0mout\u001b[0m \u001b[0mthe\u001b[0m \u001b[0mdata\u001b[0m \u001b[0mlimit\u001b[0m \u001b[0mof\u001b[0m \u001b[0mthe\u001b[0m \u001b[0mgiven\u001b[0m \u001b[0mline\u001b[0m\u001b[1;33m,\u001b[0m \u001b[0mupdating\u001b[0m \u001b[0mself\u001b[0m\u001b[1;33m.\u001b[0m\u001b[0mdataLim\u001b[0m\u001b[1;33m.\u001b[0m\u001b[1;33m\u001b[0m\u001b[1;33m\u001b[0m\u001b[0m\n\u001b[0;32m   2305\u001b[0m         \"\"\"\n\u001b[1;32m-> 2306\u001b[1;33m         \u001b[0mpath\u001b[0m \u001b[1;33m=\u001b[0m \u001b[0mline\u001b[0m\u001b[1;33m.\u001b[0m\u001b[0mget_path\u001b[0m\u001b[1;33m(\u001b[0m\u001b[1;33m)\u001b[0m\u001b[1;33m\u001b[0m\u001b[1;33m\u001b[0m\u001b[0m\n\u001b[0m\u001b[0;32m   2307\u001b[0m         \u001b[1;32mif\u001b[0m \u001b[0mpath\u001b[0m\u001b[1;33m.\u001b[0m\u001b[0mvertices\u001b[0m\u001b[1;33m.\u001b[0m\u001b[0msize\u001b[0m \u001b[1;33m==\u001b[0m \u001b[1;36m0\u001b[0m\u001b[1;33m:\u001b[0m\u001b[1;33m\u001b[0m\u001b[1;33m\u001b[0m\u001b[0m\n\u001b[0;32m   2308\u001b[0m             \u001b[1;32mreturn\u001b[0m\u001b[1;33m\u001b[0m\u001b[1;33m\u001b[0m\u001b[0m\n",
      "\u001b[1;32mc:\\users\\abdulhameed\\appdata\\local\\programs\\python\\python39\\lib\\site-packages\\matplotlib\\lines.py\u001b[0m in \u001b[0;36mget_path\u001b[1;34m(self)\u001b[0m\n\u001b[0;32m    997\u001b[0m         \u001b[1;34m\"\"\"Return the `~matplotlib.path.Path` associated with this line.\"\"\"\u001b[0m\u001b[1;33m\u001b[0m\u001b[1;33m\u001b[0m\u001b[0m\n\u001b[0;32m    998\u001b[0m         \u001b[1;32mif\u001b[0m \u001b[0mself\u001b[0m\u001b[1;33m.\u001b[0m\u001b[0m_invalidy\u001b[0m \u001b[1;32mor\u001b[0m \u001b[0mself\u001b[0m\u001b[1;33m.\u001b[0m\u001b[0m_invalidx\u001b[0m\u001b[1;33m:\u001b[0m\u001b[1;33m\u001b[0m\u001b[1;33m\u001b[0m\u001b[0m\n\u001b[1;32m--> 999\u001b[1;33m             \u001b[0mself\u001b[0m\u001b[1;33m.\u001b[0m\u001b[0mrecache\u001b[0m\u001b[1;33m(\u001b[0m\u001b[1;33m)\u001b[0m\u001b[1;33m\u001b[0m\u001b[1;33m\u001b[0m\u001b[0m\n\u001b[0m\u001b[0;32m   1000\u001b[0m         \u001b[1;32mreturn\u001b[0m \u001b[0mself\u001b[0m\u001b[1;33m.\u001b[0m\u001b[0m_path\u001b[0m\u001b[1;33m\u001b[0m\u001b[1;33m\u001b[0m\u001b[0m\n\u001b[0;32m   1001\u001b[0m \u001b[1;33m\u001b[0m\u001b[0m\n",
      "\u001b[1;32mc:\\users\\abdulhameed\\appdata\\local\\programs\\python\\python39\\lib\\site-packages\\matplotlib\\lines.py\u001b[0m in \u001b[0;36mrecache\u001b[1;34m(self, always)\u001b[0m\n\u001b[0;32m    654\u001b[0m             \u001b[0mx\u001b[0m \u001b[1;33m=\u001b[0m \u001b[0mself\u001b[0m\u001b[1;33m.\u001b[0m\u001b[0m_x\u001b[0m\u001b[1;33m\u001b[0m\u001b[1;33m\u001b[0m\u001b[0m\n\u001b[0;32m    655\u001b[0m         \u001b[1;32mif\u001b[0m \u001b[0malways\u001b[0m \u001b[1;32mor\u001b[0m \u001b[0mself\u001b[0m\u001b[1;33m.\u001b[0m\u001b[0m_invalidy\u001b[0m\u001b[1;33m:\u001b[0m\u001b[1;33m\u001b[0m\u001b[1;33m\u001b[0m\u001b[0m\n\u001b[1;32m--> 656\u001b[1;33m             \u001b[0myconv\u001b[0m \u001b[1;33m=\u001b[0m \u001b[0mself\u001b[0m\u001b[1;33m.\u001b[0m\u001b[0mconvert_yunits\u001b[0m\u001b[1;33m(\u001b[0m\u001b[0mself\u001b[0m\u001b[1;33m.\u001b[0m\u001b[0m_yorig\u001b[0m\u001b[1;33m)\u001b[0m\u001b[1;33m\u001b[0m\u001b[1;33m\u001b[0m\u001b[0m\n\u001b[0m\u001b[0;32m    657\u001b[0m             \u001b[0my\u001b[0m \u001b[1;33m=\u001b[0m \u001b[0m_to_unmasked_float_array\u001b[0m\u001b[1;33m(\u001b[0m\u001b[0myconv\u001b[0m\u001b[1;33m)\u001b[0m\u001b[1;33m.\u001b[0m\u001b[0mravel\u001b[0m\u001b[1;33m(\u001b[0m\u001b[1;33m)\u001b[0m\u001b[1;33m\u001b[0m\u001b[1;33m\u001b[0m\u001b[0m\n\u001b[0;32m    658\u001b[0m         \u001b[1;32melse\u001b[0m\u001b[1;33m:\u001b[0m\u001b[1;33m\u001b[0m\u001b[1;33m\u001b[0m\u001b[0m\n",
      "\u001b[1;32mc:\\users\\abdulhameed\\appdata\\local\\programs\\python\\python39\\lib\\site-packages\\matplotlib\\artist.py\u001b[0m in \u001b[0;36mconvert_yunits\u001b[1;34m(self, y)\u001b[0m\n\u001b[0;32m    262\u001b[0m         \u001b[1;32mif\u001b[0m \u001b[0max\u001b[0m \u001b[1;32mis\u001b[0m \u001b[1;32mNone\u001b[0m \u001b[1;32mor\u001b[0m \u001b[0max\u001b[0m\u001b[1;33m.\u001b[0m\u001b[0myaxis\u001b[0m \u001b[1;32mis\u001b[0m \u001b[1;32mNone\u001b[0m\u001b[1;33m:\u001b[0m\u001b[1;33m\u001b[0m\u001b[1;33m\u001b[0m\u001b[0m\n\u001b[0;32m    263\u001b[0m             \u001b[1;32mreturn\u001b[0m \u001b[0my\u001b[0m\u001b[1;33m\u001b[0m\u001b[1;33m\u001b[0m\u001b[0m\n\u001b[1;32m--> 264\u001b[1;33m         \u001b[1;32mreturn\u001b[0m \u001b[0max\u001b[0m\u001b[1;33m.\u001b[0m\u001b[0myaxis\u001b[0m\u001b[1;33m.\u001b[0m\u001b[0mconvert_units\u001b[0m\u001b[1;33m(\u001b[0m\u001b[0my\u001b[0m\u001b[1;33m)\u001b[0m\u001b[1;33m\u001b[0m\u001b[1;33m\u001b[0m\u001b[0m\n\u001b[0m\u001b[0;32m    265\u001b[0m \u001b[1;33m\u001b[0m\u001b[0m\n\u001b[0;32m    266\u001b[0m     \u001b[1;33m@\u001b[0m\u001b[0mproperty\u001b[0m\u001b[1;33m\u001b[0m\u001b[1;33m\u001b[0m\u001b[0m\n",
      "\u001b[1;32mc:\\users\\abdulhameed\\appdata\\local\\programs\\python\\python39\\lib\\site-packages\\matplotlib\\axis.py\u001b[0m in \u001b[0;36mconvert_units\u001b[1;34m(self, x)\u001b[0m\n\u001b[0;32m   1506\u001b[0m             \u001b[0mret\u001b[0m \u001b[1;33m=\u001b[0m \u001b[0mself\u001b[0m\u001b[1;33m.\u001b[0m\u001b[0mconverter\u001b[0m\u001b[1;33m.\u001b[0m\u001b[0mconvert\u001b[0m\u001b[1;33m(\u001b[0m\u001b[0mx\u001b[0m\u001b[1;33m,\u001b[0m \u001b[0mself\u001b[0m\u001b[1;33m.\u001b[0m\u001b[0munits\u001b[0m\u001b[1;33m,\u001b[0m \u001b[0mself\u001b[0m\u001b[1;33m)\u001b[0m\u001b[1;33m\u001b[0m\u001b[1;33m\u001b[0m\u001b[0m\n\u001b[0;32m   1507\u001b[0m         \u001b[1;32mexcept\u001b[0m \u001b[0mException\u001b[0m \u001b[1;32mas\u001b[0m \u001b[0me\u001b[0m\u001b[1;33m:\u001b[0m\u001b[1;33m\u001b[0m\u001b[1;33m\u001b[0m\u001b[0m\n\u001b[1;32m-> 1508\u001b[1;33m             raise munits.ConversionError('Failed to convert value(s) to axis '\n\u001b[0m\u001b[0;32m   1509\u001b[0m                                          f'units: {x!r}') from e\n\u001b[0;32m   1510\u001b[0m         \u001b[1;32mreturn\u001b[0m \u001b[0mret\u001b[0m\u001b[1;33m\u001b[0m\u001b[1;33m\u001b[0m\u001b[0m\n",
      "\u001b[1;31mConversionError\u001b[0m: Failed to convert value(s) to axis units: array([Adj Close    4123.393097\ndtype: float64,\n       Adj Close    4123.93872\ndtype: float64,\n       Adj Close    4124.448191\ndtype: float64,\n       Adj Close    4124.892241\ndtype: float64,\n       Adj Close    4125.321338\ndtype: float64,\n       Adj Close    4125.7319\ndtype: float64,\n       Adj Close    4126.191591\ndtype: float64,\n       Adj Close    4126.693372\ndtype: float64,\n       Adj Close    4127.17318\ndtype: float64,\n       Adj Close    4127.566843\ndtype: float64,\n       Adj Close    4127.897744\ndtype: float64,\n       Adj Close    4128.287625\ndtype: float64,\n       Adj Close    4128.688115\ndtype: float64,\n       Adj Close    4129.144125\ndtype: float64,\n       Adj Close    4129.475483\ndtype: float64,\n       Adj Close    4129.733993\ndtype: float64,\n       Adj Close    4130.008612\ndtype: float64,\n       Adj Close    4130.295084\ndtype: float64,\n       Adj Close    4130.577745\ndtype: float64,\n       Adj Close    4130.579422\ndtype: float64,\n       Adj Close    4130.558301\ndtype: float64,\n       Adj Close    4130.39464\ndtype: float64,\n       Adj Close    4130.180842\ndtype: float64,\n       Adj Close    4130.079987\ndtype: float64,\n       Adj Close    4130.035242\ndtype: float64,\n       Adj Close    4130.113703\ndtype: float64,\n       Adj Close    4130.205834\ndtype: float64,\n       Adj Close    4130.206898\ndtype: float64,\n       Adj Close    4130.239331\ndtype: float64,\n       Adj Close    4130.248292\ndtype: float64,\n       Adj Close    4130.05277\ndtype: float64,\n       Adj Close    4129.831276\ndtype: float64,\n       Adj Close    4129.669268\ndtype: float64,\n       Adj Close    4129.514835\ndtype: float64,\n       Adj Close    4129.322388\ndtype: float64,\n       Adj Close    4129.064073\ndtype: float64,\n       Adj Close    4128.654277\ndtype: float64,\n       Adj Close    4128.222422\ndtype: float64,\n       Adj Close    4127.785589\ndtype: float64,\n       Adj Close    4127.316686\ndtype: float64,\n       Adj Close    4126.771475\ndtype: float64,\n       Adj Close    4126.199714\ndtype: float64,\n       Adj Close    4125.632712\ndtype: float64,\n       Adj Close    4125.093277\ndtype: float64,\n       Adj Close    4124.544402\ndtype: float64,\n       Adj Close    4124.033108\ndtype: float64,\n       Adj Close    4123.48107\ndtype: float64,\n       Adj Close    4122.91244\ndtype: float64,\n       Adj Close    4122.328622\ndtype: float64,\n       Adj Close    4121.745275\ndtype: float64,\n       Adj Close    4121.179485\ndtype: float64,\n       Adj Close    4120.644113\ndtype: float64,\n       Adj Close    4120.194795\ndtype: float64,\n       Adj Close    4119.750438\ndtype: float64,\n       Adj Close    4119.340965\ndtype: float64,\n       Adj Close    4118.97072\ndtype: float64,\n       Adj Close    4118.598448\ndtype: float64,\n       Adj Close    4118.212728\ndtype: float64,\n       Adj Close    4117.651102\ndtype: float64,\n       Adj Close    4117.092817\ndtype: float64,\n       Adj Close    4116.493711\ndtype: float64,\n       Adj Close    4115.963454\ndtype: float64,\n       Adj Close    4115.584794\ndtype: float64,\n       Adj Close    4115.248262\ndtype: float64,\n       Adj Close    4114.956776\ndtype: float64,\n       Adj Close    4114.795914\ndtype: float64,\n       Adj Close    4114.549284\ndtype: float64,\n       Adj Close    4114.260222\ndtype: float64,\n       Adj Close    4113.925066\ndtype: float64,\n       Adj Close    4113.561582\ndtype: float64,\n       Adj Close    4113.2488\ndtype: float64,\n       Adj Close    4112.956163\ndtype: float64,\n       Adj Close    4112.555448\ndtype: float64,\n       Adj Close    4112.195407\ndtype: float64,\n       Adj Close    4111.845466\ndtype: float64,\n       Adj Close    4111.518457\ndtype: float64,\n       Adj Close    4111.211568\ndtype: float64,\n       Adj Close    4110.911307\ndtype: float64,\n       Adj Close    4110.701029\ndtype: float64,\n       Adj Close    4110.665693\ndtype: float64,\n       Adj Close    4110.644549\ndtype: float64,\n       Adj Close    4110.654721\ndtype: float64,\n       Adj Close    4110.697694\ndtype: float64,\n       Adj Close    4110.738597\ndtype: float64,\n       Adj Close    4110.805925\ndtype: float64,\n       Adj Close    4110.760779\ndtype: float64,\n       Adj Close    4110.583037\ndtype: float64,\n       Adj Close    4110.32235\ndtype: float64,\n       Adj Close    4110.091876\ndtype: float64,\n       Adj Close    4109.902341\ndtype: float64,\n       Adj Close    4109.717484\ndtype: float64,\n       Adj Close    4109.488864\ndtype: float64,\n       Adj Close    4109.294068\ndtype: float64,\n       Adj Close    4109.138128\ndtype: float64,\n       Adj Close    4108.892869\ndtype: float64,\n       Adj Close    4108.619414\ndtype: float64,\n       Adj Close    4108.340534\ndtype: float64,\n       Adj Close    4107.985658\ndtype: float64,\n       Adj Close    4107.455634\ndtype: float64,\n       Adj Close    4106.947538\ndtype: float64,\n       Adj Close    4106.351669\ndtype: float64,\n       Adj Close    4105.747702\ndtype: float64,\n       Adj Close    4105.095704\ndtype: float64,\n       Adj Close    4104.515318\ndtype: float64,\n       Adj Close    4103.918293\ndtype: float64,\n       Adj Close    4103.360184\ndtype: float64,\n       Adj Close    4102.806857\ndtype: float64,\n       Adj Close    4102.252618\ndtype: float64,\n       Adj Close    4101.700316\ndtype: float64,\n       Adj Close    4101.26254\ndtype: float64,\n       Adj Close    4100.907404\ndtype: float64,\n       Adj Close    4100.565934\ndtype: float64,\n       Adj Close    4100.13484\ndtype: float64,\n       Adj Close    4099.687352\ndtype: float64,\n       Adj Close    4099.172158\ndtype: float64,\n       Adj Close    4098.841371\ndtype: float64,\n       Adj Close    4098.470846\ndtype: float64,\n       Adj Close    4097.962198\ndtype: float64,\n       Adj Close    4097.46553\ndtype: float64,\n       Adj Close    4097.070646\ndtype: float64,\n       Adj Close    4096.856808\ndtype: float64,\n       Adj Close    4096.643327\ndtype: float64,\n       Adj Close    4096.215738\ndtype: float64,\n       Adj Close    4096.000492\ndtype: float64,\n       Adj Close    4096.010048\ndtype: float64,\n       Adj Close    4095.9327\ndtype: float64,\n       Adj Close    4095.776132\ndtype: float64,\n       Adj Close    4095.726191\ndtype: float64,\n       Adj Close    4095.547898\ndtype: float64,\n       Adj Close    4095.411354\ndtype: float64,\n       Adj Close    4095.275294\ndtype: float64,\n       Adj Close    4095.113952\ndtype: float64,\n       Adj Close    4094.914238\ndtype: float64,\n       Adj Close    4094.753768\ndtype: float64,\n       Adj Close    4094.579111\ndtype: float64,\n       Adj Close    4094.290593\ndtype: float64,\n       Adj Close    4094.041895\ndtype: float64,\n       Adj Close    4093.822096\ndtype: float64,\n       Adj Close    4093.511803\ndtype: float64,\n       Adj Close    4093.228116\ndtype: float64,\n       Adj Close    4092.973269\ndtype: float64,\n       Adj Close    4092.731923\ndtype: float64,\n       Adj Close    4092.533426\ndtype: float64,\n       Adj Close    4092.240796\ndtype: float64,\n       Adj Close    4091.954273\ndtype: float64,\n       Adj Close    4091.72517\ndtype: float64,\n       Adj Close    4091.409231\ndtype: float64,\n       Adj Close    4091.136001\ndtype: float64,\n       Adj Close    4090.841068\ndtype: float64,\n       Adj Close    4090.570559\ndtype: float64,\n       Adj Close    4090.325997\ndtype: float64,\n       Adj Close    4090.031196\ndtype: float64,\n       Adj Close    4089.636256\ndtype: float64,\n       Adj Close    4089.269231\ndtype: float64,\n       Adj Close    4088.871569\ndtype: float64,\n       Adj Close    4088.48864\ndtype: float64,\n       Adj Close    4088.140252\ndtype: float64,\n       Adj Close    4087.857979\ndtype: float64,\n       Adj Close    4087.616262\ndtype: float64,\n       Adj Close    4087.21881\ndtype: float64,\n       Adj Close    4086.706386\ndtype: float64,\n       Adj Close    4086.264189\ndtype: float64,\n       Adj Close    4085.776568\ndtype: float64,\n       Adj Close    4085.374618\ndtype: float64,\n       Adj Close    4084.766817\ndtype: float64,\n       Adj Close    4084.182199\ndtype: float64,\n       Adj Close    4083.590028\ndtype: float64,\n       Adj Close    4082.8767\ndtype: float64,\n       Adj Close    4082.172444\ndtype: float64,\n       Adj Close    4081.503667\ndtype: float64,\n       Adj Close    4080.88509\ndtype: float64,\n       Adj Close    4080.403995\ndtype: float64,\n       Adj Close    4079.905254\ndtype: float64,\n       Adj Close    4079.350732\ndtype: float64,\n       Adj Close    4078.808476\ndtype: float64,\n       Adj Close    4078.235294\ndtype: float64,\n       Adj Close    4077.604001\ndtype: float64,\n       Adj Close    4077.009049\ndtype: float64,\n       Adj Close    4076.410909\ndtype: float64,\n       Adj Close    4075.810317\ndtype: float64,\n       Adj Close    4075.075375\ndtype: float64,\n       Adj Close    4074.309915\ndtype: float64,\n       Adj Close    4073.381974\ndtype: float64,\n       Adj Close    4072.468616\ndtype: float64,\n       Adj Close    4071.556687\ndtype: float64,\n       Adj Close    4070.63594\ndtype: float64,\n       Adj Close    4069.663841\ndtype: float64,\n       Adj Close    4068.663765\ndtype: float64,\n       Adj Close    4067.669356\ndtype: float64,\n       Adj Close    4066.633737\ndtype: float64,\n       Adj Close    4065.572969\ndtype: float64,\n       Adj Close    4064.514852\ndtype: float64,\n       Adj Close    4063.416886\ndtype: float64,\n       Adj Close    4062.27754\ndtype: float64,\n       Adj Close    4061.288739\ndtype: float64,\n       Adj Close    4060.040368\ndtype: float64,\n       Adj Close    4058.735706\ndtype: float64,\n       Adj Close    4057.428895\ndtype: float64,\n       Adj Close    4056.158036\ndtype: float64,\n       Adj Close    4054.811806\ndtype: float64,\n       Adj Close    4053.574741\ndtype: float64,\n       Adj Close    4052.243316\ndtype: float64,\n       Adj Close    4050.908231\ndtype: float64,\n       Adj Close    4049.636893\ndtype: float64,\n       Adj Close    4048.364928\ndtype: float64,\n       Adj Close    4047.152415\ndtype: float64,\n       Adj Close    4045.945236\ndtype: float64,\n       Adj Close    4044.784438\ndtype: float64,\n       Adj Close    4043.602666\ndtype: float64,\n       Adj Close    4042.39697\ndtype: float64,\n       Adj Close    4041.240573\ndtype: float64,\n       Adj Close    4040.044165\ndtype: float64,\n       Adj Close    4038.715358\ndtype: float64,\n       Adj Close    4037.457641\ndtype: float64,\n       Adj Close    4036.219828\ndtype: float64,\n       Adj Close    4035.0093\ndtype: float64,\n       Adj Close    4033.773319\ndtype: float64,\n       Adj Close    4032.717031\ndtype: float64,\n       Adj Close    4031.697109\ndtype: float64,\n       Adj Close    4030.716544\ndtype: float64,\n       Adj Close    4029.72265\ndtype: float64,\n       Adj Close    4028.683149\ndtype: float64,\n       Adj Close    4027.663912\ndtype: float64,\n       Adj Close    4026.600491\ndtype: float64,\n       Adj Close    4025.639389\ndtype: float64,\n       Adj Close    4024.645911\ndtype: float64,\n       Adj Close    4023.681588\ndtype: float64,\n       Adj Close    4022.71421\ndtype: float64,\n       Adj Close    4021.718847\ndtype: float64,\n       Adj Close    4020.6427\ndtype: float64,\n       Adj Close    4019.526675\ndtype: float64,\n       Adj Close    4018.454247\ndtype: float64,\n       Adj Close    4017.110383\ndtype: float64,\n       Adj Close    4015.66465\ndtype: float64,\n       Adj Close    4014.263126\ndtype: float64,\n       Adj Close    4012.740891\ndtype: float64,\n       Adj Close    4011.135538\ndtype: float64,\n       Adj Close    4009.523142\ndtype: float64,\n       Adj Close    4007.937397\ndtype: float64,\n       Adj Close    4006.354905\ndtype: float64,\n       Adj Close    4004.743431\ndtype: float64,\n       Adj Close    4003.187917\ndtype: float64,\n       Adj Close    4001.288359\ndtype: float64,\n       Adj Close    3999.476544\ndtype: float64,\n       Adj Close    3997.639751\ndtype: float64,\n       Adj Close    3995.629932\ndtype: float64,\n       Adj Close    3993.703276\ndtype: float64,\n       Adj Close    3991.767581\ndtype: float64,\n       Adj Close    3989.77593\ndtype: float64,\n       Adj Close    3987.817636\ndtype: float64,\n       Adj Close    3985.689049\ndtype: float64,\n       Adj Close    3983.477812\ndtype: float64,\n       Adj Close    3981.032536\ndtype: float64,\n       Adj Close    3978.537269\ndtype: float64,\n       Adj Close    3976.119439\ndtype: float64,\n       Adj Close    3973.752486\ndtype: float64,\n       Adj Close    3971.489854\ndtype: float64,\n       Adj Close    3969.232391\ndtype: float64,\n       Adj Close    3966.980105\ndtype: float64,\n       Adj Close    3964.651456\ndtype: float64,\n       Adj Close    3962.353073\ndtype: float64,\n       Adj Close    3960.079075\ndtype: float64,\n       Adj Close    3957.884345\ndtype: float64,\n       Adj Close    3955.678586\ndtype: float64,\n       Adj Close    3953.426211\ndtype: float64,\n       Adj Close    3951.20866\ndtype: float64,\n       Adj Close    3948.956318\ndtype: float64,\n       Adj Close    3946.87076\ndtype: float64,\n       Adj Close    3944.642409\ndtype: float64,\n       Adj Close    3942.54233\ndtype: float64,\n       Adj Close    3940.585563\ndtype: float64,\n       Adj Close    3938.723431\ndtype: float64,\n       Adj Close    3936.83599\ndtype: float64,\n       Adj Close    3934.866857\ndtype: float64,\n       Adj Close    3932.851497\ndtype: float64,\n       Adj Close    3930.855042\ndtype: float64,\n       Adj Close    3928.984292\ndtype: float64,\n       Adj Close    3927.08822\ndtype: float64,\n       Adj Close    3925.22311\ndtype: float64,\n       Adj Close    3923.374203\ndtype: float64,\n       Adj Close    3921.534111\ndtype: float64,\n       Adj Close    3919.733986\ndtype: float64,\n       Adj Close    3917.785607\ndtype: float64,\n       Adj Close    3915.860707\ndtype: float64,\n       Adj Close    3913.723591\ndtype: float64,\n       Adj Close    3911.508835\ndtype: float64,\n       Adj Close    3909.118455\ndtype: float64,\n       Adj Close    3906.718205\ndtype: float64,\n       Adj Close    3904.273968\ndtype: float64,\n       Adj Close    3901.810877\ndtype: float64,\n       Adj Close    3899.228095\ndtype: float64,\n       Adj Close    3896.75226\ndtype: float64,\n       Adj Close    3894.45172\ndtype: float64,\n       Adj Close    3892.316401\ndtype: float64,\n       Adj Close    3890.251684\ndtype: float64,\n       Adj Close    3888.207288\ndtype: float64,\n       Adj Close    3886.28702\ndtype: float64,\n       Adj Close    3884.467377\ndtype: float64,\n       Adj Close    3882.5365\ndtype: float64,\n       Adj Close    3880.388965\ndtype: float64,\n       Adj Close    3878.094087\ndtype: float64,\n       Adj Close    3875.76874\ndtype: float64,\n       Adj Close    3873.356546\ndtype: float64,\n       Adj Close    3870.879588\ndtype: float64,\n       Adj Close    3868.463789\ndtype: float64,\n       Adj Close    3866.044009\ndtype: float64,\n       Adj Close    3863.796652\ndtype: float64,\n       Adj Close    3861.630106\ndtype: float64,\n       Adj Close    3859.298393\ndtype: float64,\n       Adj Close    3856.848686\ndtype: float64,\n       Adj Close    3854.322292\ndtype: float64,\n       Adj Close    3852.0334\ndtype: float64,\n       Adj Close    3849.881577\ndtype: float64,\n       Adj Close    3847.511233\ndtype: float64,\n       Adj Close    3845.31341\ndtype: float64,\n       Adj Close    3842.965195\ndtype: float64,\n       Adj Close    3840.263227\ndtype: float64,\n       Adj Close    3837.43969\ndtype: float64,\n       Adj Close    3834.494385\ndtype: float64,\n       Adj Close    3831.455281\ndtype: float64,\n       Adj Close    3828.467498\ndtype: float64,\n       Adj Close    3825.409569\ndtype: float64,\n       Adj Close    3822.514132\ndtype: float64,\n       Adj Close    3819.658389\ndtype: float64,\n       Adj Close    3816.686756\ndtype: float64,\n       Adj Close    3813.782879\ndtype: float64,\n       Adj Close    3811.044696\ndtype: float64,\n       Adj Close    3808.144852\ndtype: float64,\n       Adj Close    3805.318814\ndtype: float64,\n       Adj Close    3802.55779\ndtype: float64,\n       Adj Close    3799.75665\ndtype: float64,\n       Adj Close    3796.893069\ndtype: float64,\n       Adj Close    3794.079631\ndtype: float64,\n       Adj Close    3791.209664\ndtype: float64,\n       Adj Close    3788.247505\ndtype: float64,\n       Adj Close    3785.516183\ndtype: float64,\n       Adj Close    3782.924167\ndtype: float64,\n       Adj Close    3780.369396\ndtype: float64,\n       Adj Close    3777.6918\ndtype: float64,\n       Adj Close    3774.866004\ndtype: float64,\n       Adj Close    3772.050363\ndtype: float64,\n       Adj Close    3769.218222\ndtype: float64,\n       Adj Close    3766.339916\ndtype: float64,\n       Adj Close    3763.585847\ndtype: float64,\n       Adj Close    3760.913221\ndtype: float64,\n       Adj Close    3758.261397\ndtype: float64,\n       Adj Close    3755.637825\ndtype: float64,\n       Adj Close    3753.076635\ndtype: float64,\n       Adj Close    3750.42228\ndtype: float64,\n       Adj Close    3748.120834\ndtype: float64,\n       Adj Close    3745.616947\ndtype: float64,\n       Adj Close    3743.080764\ndtype: float64,\n       Adj Close    3740.495922\ndtype: float64,\n       Adj Close    3737.748205\ndtype: float64,\n       Adj Close    3734.878828\ndtype: float64,\n       Adj Close    3732.129255\ndtype: float64,\n       Adj Close    3729.533784\ndtype: float64,\n       Adj Close    3726.916245\ndtype: float64,\n       Adj Close    3724.275135\ndtype: float64,\n       Adj Close    3721.942475\ndtype: float64,\n       Adj Close    3719.906927\ndtype: float64,\n       Adj Close    3717.796872\ndtype: float64,\n       Adj Close    3715.77377\ndtype: float64,\n       Adj Close    3713.726577\ndtype: float64,\n       Adj Close    3711.587066\ndtype: float64,\n       Adj Close    3709.340257\ndtype: float64,\n       Adj Close    3707.214277\ndtype: float64,\n       Adj Close    3705.06552\ndtype: float64,\n       Adj Close    3703.045166\ndtype: float64,\n       Adj Close    3701.183082\ndtype: float64,\n       Adj Close    3699.386119\ndtype: float64,\n       Adj Close    3697.528386\ndtype: float64,\n       Adj Close    3695.519339\ndtype: float64,\n       Adj Close    3693.406175\ndtype: float64,\n       Adj Close    3691.216877\ndtype: float64,\n       Adj Close    3689.043247\ndtype: float64,\n       Adj Close    3686.656992\ndtype: float64,\n       Adj Close    3684.294977\ndtype: float64,\n       Adj Close    3681.985414\ndtype: float64,\n       Adj Close    3679.606807\ndtype: float64,\n       Adj Close    3677.246521\ndtype: float64,\n       Adj Close    3674.818591\ndtype: float64,\n       Adj Close    3672.391126\ndtype: float64,\n       Adj Close    3669.325131\ndtype: float64,\n       Adj Close    3666.117693\ndtype: float64,\n       Adj Close    3663.030984\ndtype: float64,\n       Adj Close    3660.032584\ndtype: float64,\n       Adj Close    3656.955125\ndtype: float64,\n       Adj Close    3653.942267\ndtype: float64,\n       Adj Close    3650.831052\ndtype: float64,\n       Adj Close    3647.52051\ndtype: float64,\n       Adj Close    3644.232669\ndtype: float64,\n       Adj Close    3640.921619\ndtype: float64,\n       Adj Close    3637.600864\ndtype: float64,\n       Adj Close    3634.203303\ndtype: float64,\n       Adj Close    3630.760673\ndtype: float64,\n       Adj Close    3627.183343\ndtype: float64,\n       Adj Close    3623.586462\ndtype: float64,\n       Adj Close    3620.056506\ndtype: float64,\n       Adj Close    3616.501014\ndtype: float64,\n       Adj Close    3612.872861\ndtype: float64,\n       Adj Close    3609.287314\ndtype: float64,\n       Adj Close    3605.68067\ndtype: float64,\n       Adj Close    3602.043801\ndtype: float64,\n       Adj Close    3598.454071\ndtype: float64,\n       Adj Close    3594.743056\ndtype: float64,\n       Adj Close    3590.998613\ndtype: float64,\n       Adj Close    3587.197903\ndtype: float64,\n       Adj Close    3583.202693\ndtype: float64,\n       Adj Close    3579.465037\ndtype: float64,\n       Adj Close    3575.683283\ndtype: float64,\n       Adj Close    3571.840652\ndtype: float64,\n       Adj Close    3568.076699\ndtype: float64,\n       Adj Close    3564.094025\ndtype: float64,\n       Adj Close    3560.65278\ndtype: float64,\n       Adj Close    3557.15425\ndtype: float64,\n       Adj Close    3553.504224\ndtype: float64,\n       Adj Close    3549.999997\ndtype: float64,\n       Adj Close    3546.561332\ndtype: float64,\n       Adj Close    3543.076029\ndtype: float64,\n       Adj Close    3539.522744\ndtype: float64,\n       Adj Close    3536.016736\ndtype: float64,\n       Adj Close    3532.552002\ndtype: float64,\n       Adj Close    3529.236404\ndtype: float64,\n       Adj Close    3525.960879\ndtype: float64,\n       Adj Close    3522.670848\ndtype: float64,\n       Adj Close    3519.343518\ndtype: float64,\n       Adj Close    3516.164018\ndtype: float64,\n       Adj Close    3513.129577\ndtype: float64,\n       Adj Close    3509.938324\ndtype: float64,\n       Adj Close    3506.75244\ndtype: float64,\n       Adj Close    3503.590154\ndtype: float64,\n       Adj Close    3500.565343\ndtype: float64,\n       Adj Close    3497.467247\ndtype: float64,\n       Adj Close    3494.537094\ndtype: float64,\n       Adj Close    3491.726595\ndtype: float64,\n       Adj Close    3488.844678\ndtype: float64,\n       Adj Close    3485.877553\ndtype: float64,\n       Adj Close    3482.872145\ndtype: float64,\n       Adj Close    3479.752494\ndtype: float64,\n       Adj Close    3476.641362\ndtype: float64,\n       Adj Close    3473.728514\ndtype: float64,\n       Adj Close    3470.835151\ndtype: float64,\n       Adj Close    3467.744237\ndtype: float64,\n       Adj Close    3464.620916\ndtype: float64,\n       Adj Close    3461.402878\ndtype: float64,\n       Adj Close    3458.187133\ndtype: float64,\n       Adj Close    3455.043504\ndtype: float64,\n       Adj Close    3451.827908\ndtype: float64,\n       Adj Close    3448.500755\ndtype: float64,\n       Adj Close    3445.054265\ndtype: float64,\n       Adj Close    3441.486743\ndtype: float64,\n       Adj Close    3438.142553\ndtype: float64,\n       Adj Close    3434.883942\ndtype: float64,\n       Adj Close    3431.644245\ndtype: float64,\n       Adj Close    3428.44323\ndtype: float64,\n       Adj Close    3425.068441\ndtype: float64,\n       Adj Close    3421.622821\ndtype: float64,\n       Adj Close    3418.214028\ndtype: float64,\n       Adj Close    3414.669076\ndtype: float64,\n       Adj Close    3411.144083\ndtype: float64,\n       Adj Close    3407.497912\ndtype: float64,\n       Adj Close    3403.795651\ndtype: float64,\n       Adj Close    3399.994689\ndtype: float64,\n       Adj Close    3396.193543\ndtype: float64,\n       Adj Close    3392.354257\ndtype: float64,\n       Adj Close    3388.455516\ndtype: float64,\n       Adj Close    3384.307469\ndtype: float64,\n       Adj Close    3380.091864\ndtype: float64,\n       Adj Close    3375.814668\ndtype: float64,\n       Adj Close    3371.694362\ndtype: float64,\n       Adj Close    3367.476198\ndtype: float64,\n       Adj Close    3363.245006\ndtype: float64,\n       Adj Close    3359.123729\ndtype: float64,\n       Adj Close    3354.928875\ndtype: float64,\n       Adj Close    3350.683091\ndtype: float64,\n       Adj Close    3346.383244\ndtype: float64,\n       Adj Close    3341.980696\ndtype: float64,\n       Adj Close    3337.464635\ndtype: float64,\n       Adj Close    3332.977558\ndtype: float64,\n       Adj Close    3328.560503\ndtype: float64,\n       Adj Close    3324.272794\ndtype: float64,\n       Adj Close    3319.918812\ndtype: float64,\n       Adj Close    3315.537936\ndtype: float64,\n       Adj Close    3311.312266\ndtype: float64,\n       Adj Close    3307.167673\ndtype: float64,\n       Adj Close    3303.005627\ndtype: float64,\n       Adj Close    3298.71529\ndtype: float64,\n       Adj Close    3294.370818\ndtype: float64,\n       Adj Close    3290.079913\ndtype: float64,\n       Adj Close    3285.80016\ndtype: float64,\n       Adj Close    3281.528529\ndtype: float64,\n       Adj Close    3277.122349\ndtype: float64,\n       Adj Close    3272.8683\ndtype: float64,\n       Adj Close    3267.861905\ndtype: float64,\n       Adj Close    3262.76377\ndtype: float64,\n       Adj Close    3257.239789\ndtype: float64,\n       Adj Close    3251.785654\ndtype: float64,\n       Adj Close    3246.42423\ndtype: float64,\n       Adj Close    3240.842968\ndtype: float64,\n       Adj Close    3235.191803\ndtype: float64,\n       Adj Close    3229.745365\ndtype: float64,\n       Adj Close    3224.324863\ndtype: float64,\n       Adj Close    3218.825612\ndtype: float64,\n       Adj Close    3213.046017\ndtype: float64,\n       Adj Close    3218.339338\ndtype: float64,\n       Adj Close    3223.64138\ndtype: float64,\n       Adj Close    3228.952157\ndtype: float64,\n       Adj Close    3234.271682\ndtype: float64,\n       Adj Close    3239.599972\ndtype: float64,\n       Adj Close    3244.937039\ndtype: float64,\n       Adj Close    3250.282899\ndtype: float64,\n       Adj Close    3255.637566\ndtype: float64,\n       Adj Close    3261.001055\ndtype: float64,\n       Adj Close    3266.37338\ndtype: float64,\n       Adj Close    3271.754555\ndtype: float64,\n       Adj Close    3277.144595\ndtype: float64,\n       Adj Close    3282.543515\ndtype: float64,\n       Adj Close    3287.95133\ndtype: float64,\n       Adj Close    3293.368054\ndtype: float64,\n       Adj Close    3298.793701\ndtype: float64,\n       Adj Close    3304.228287\ndtype: float64,\n       Adj Close    3309.671827\ndtype: float64,\n       Adj Close    3315.124334\ndtype: float64,\n       Adj Close    3320.585824\ndtype: float64,\n       Adj Close    3326.056311\ndtype: float64,\n       Adj Close    3331.535811\ndtype: float64,\n       Adj Close    3337.024338\ndtype: float64,\n       Adj Close    3342.521906\ndtype: float64,\n       Adj Close    3348.028532\ndtype: float64,\n       Adj Close    3353.54423\ndtype: float64,\n       Adj Close    3359.069015\ndtype: float64,\n       Adj Close    3364.602901\ndtype: float64,\n       Adj Close    3370.145904\ndtype: float64,\n       Adj Close    3375.698039\ndtype: float64,\n       Adj Close    3381.259321\ndtype: float64,\n       Adj Close    3386.829765\ndtype: float64,\n       Adj Close    3392.409385\ndtype: float64,\n       Adj Close    3397.998198\ndtype: float64,\n       Adj Close    3403.596218\ndtype: float64,\n       Adj Close    3409.203461\ndtype: float64,\n       Adj Close    3414.819941\ndtype: float64,\n       Adj Close    3420.445674\ndtype: float64,\n       Adj Close    3426.080675\ndtype: float64,\n       Adj Close    3431.724959\ndtype: float64,\n       Adj Close    3437.378543\ndtype: float64,\n       Adj Close    3443.04144\ndtype: float64,\n       Adj Close    3448.713666\ndtype: float64,\n       Adj Close    3454.395237\ndtype: float64,\n       Adj Close    3460.086168\ndtype: float64,\n       Adj Close    3465.786475\ndtype: float64,\n       Adj Close    3471.496173\ndtype: float64,\n       Adj Close    3477.215277\ndtype: float64,\n       Adj Close    3482.943803\ndtype: float64,\n       Adj Close    3488.681766\ndtype: float64,\n       Adj Close    3494.429183\ndtype: float64,\n       Adj Close    3500.186068\ndtype: float64,\n       Adj Close    3505.952437\ndtype: float64,\n       Adj Close    3511.728306\ndtype: float64,\n       Adj Close    3517.51369\ndtype: float64,\n       Adj Close    3523.308606\ndtype: float64,\n       Adj Close    3529.113068\ndtype: float64,\n       Adj Close    3534.927093\ndtype: float64,\n       Adj Close    3540.750696\ndtype: float64,\n       Adj Close    3546.583893\ndtype: float64,\n       Adj Close    3552.4267\ndtype: float64,\n       Adj Close    3558.279133\ndtype: float64,\n       Adj Close    3564.141207\ndtype: float64,\n       Adj Close    3570.012939\ndtype: float64,\n       Adj Close    3575.894344\ndtype: float64,\n       Adj Close    3581.785439\ndtype: float64,\n       Adj Close    3587.686238\ndtype: float64,\n       Adj Close    3593.596759\ndtype: float64,\n       Adj Close    3599.517018\ndtype: float64,\n       Adj Close    3605.447029\ndtype: float64,\n       Adj Close    3611.38681\ndtype: float64,\n       Adj Close    3617.336377\ndtype: float64,\n       Adj Close    3623.295745\ndtype: float64,\n       Adj Close    3629.26493\ndtype: float64,\n       Adj Close    3635.24395\ndtype: float64,\n       Adj Close    3641.23282\ndtype: float64,\n       Adj Close    3647.231556\ndtype: float64,\n       Adj Close    3653.240175\ndtype: float64,\n       Adj Close    3659.258692\ndtype: float64,\n       Adj Close    3665.287125\ndtype: float64,\n       Adj Close    3671.325489\ndtype: float64,\n       Adj Close    3677.373801\ndtype: float64,\n       Adj Close    3683.432078\ndtype: float64,\n       Adj Close    3689.500335\ndtype: float64,\n       Adj Close    3695.578589\ndtype: float64,\n       Adj Close    3701.666857\ndtype: float64,\n       Adj Close    3707.765155\ndtype: float64,\n       Adj Close    3713.8735\ndtype: float64,\n       Adj Close    3719.991907\ndtype: float64,\n       Adj Close    3726.120395\ndtype: float64,\n       Adj Close    3732.258979\ndtype: float64,\n       Adj Close    3738.407675\ndtype: float64,\n       Adj Close    3744.566502\ndtype: float64,\n       Adj Close    3750.735475\ndtype: float64,\n       Adj Close    3756.914611\ndtype: float64,\n       Adj Close    3763.103926\ndtype: float64,\n       Adj Close    3769.303439\ndtype: float64,\n       Adj Close    3775.513164\ndtype: float64,\n       Adj Close    3781.73312\ndtype: float64,\n       Adj Close    3787.963323\ndtype: float64,\n       Adj Close    3794.20379\ndtype: float64,\n       Adj Close    3800.454537\ndtype: float64], dtype=object)"
     ]
    },
    {
     "data": {
      "image/png": "[encoded data removed]",
      "text/plain": [
       "<Figure size 1440x720 with 1 Axes>"
      ]
     },
     "metadata": {
      "needs_background": "light"
     },
     "output_type": "display_data"
    }
   ],
   "source": [
    "plt.figure(figsize=(20,10))\n",
    "sns.set_style(\"whitegrid\")\n",
    "test['Predictions'] = 0\n",
    "test['Predictions'] = preds\n",
    "plt.plot(train, label='Training')\n",
    "plt.plot(test['Adj Close'], label='Actual')\n",
    "plt.plot(test['Predictions'], label='Predicted')\n",
    "plt.title(\"AZN Adjusted Close Price - Moving Average\", color = 'black', fontsize = 20)\n",
    "plt.xlabel('Year', color = 'black', fontsize = 15)\n",
    "plt.ylabel('Stock Price', color = 'black', fontsize = 15)\n",
    "plt.legend();"
   ]
  },
  {
   "cell_type": "code",
   "execution_count": 17,
   "id": "e55e7f77-f9de-4fe1-94ec-df32dad76c98",
   "metadata": {},
   "outputs": [],
   "source": [
    "azn_adj['MA10'] =azn_adj['Adj Close'].rolling(200).mean()"
   ]
  },
  {
   "cell_type": "code",
   "execution_count": 18,
   "id": "dbd3b522-53b5-489a-b5d5-efd24ff61663",
   "metadata": {},
   "outputs": [],
   "source": [
    "#azn_adj['EMA10'] = azn_adj['Adj Close'].ewm(span=200, adjust=False).mean()\n",
    "#azn_adj\n",
    "weights = np.arange(1,201)\n",
    "azn_adj['EMA10'] = azn_adj['Adj Close'].rolling(200).apply(lambda prices: np.dot(prices, weights)/weights.sum(), raw=True)"
   ]
  },
  {
   "cell_type": "code",
   "execution_count": 19,
   "id": "f5b89656-a486-4779-9405-b4d3380f3ce9",
   "metadata": {},
   "outputs": [],
   "source": [
    "plt.style.use('fivethirtyeight')"
   ]
  },
  {
   "cell_type": "code",
   "execution_count": 24,
   "id": "096ebe8c-6837-4f2a-ae1d-907c475091e2",
   "metadata": {},
   "outputs": [
    {
     "data": {
      "image/png": "[encoded data removed]",
      "text/plain": [
       "<Figure size 864x432 with 1 Axes>"
      ]
     },
     "metadata": {},
     "output_type": "display_data"
    }
   ],
   "source": [
    "plt.figure(figsize = (12,6))\n",
    "plt.plot(azn_adj['Adj Close'], label=\"close\")\n",
    "plt.plot(azn_adj['EMA10'], label=\"10-Day EMA\")\n",
    "#plt.plot(azn_adj['MA10'], label=\"10-Day SMA\")\n",
    "plt.xlabel(\"Date\")\n",
    "plt.ylabel(\"Price\")\n",
    "plt.legend()\n",
    "plt.show()"
   ]
  },
  {
   "cell_type": "code",
   "execution_count": 21,
   "id": "1af3f4f9-89d7-4422-8c21-48e7c75208a6",
   "metadata": {},
   "outputs": [],
   "source": [
    "\n",
    "import plotly.express as px "
   ]
  },
  {
   "cell_type": "code",
   "execution_count": null,
   "id": "ecdfbebc-6a72-4eca-97a2-30a77ece1d7c",
   "metadata": {},
   "outputs": [],
   "source": [
    "fig = px.line(azn_adj, x='Date', y=azn_adj.columns[0:4])\n",
    "\n"
   ]
  },
  {
   "cell_type": "code",
   "execution_count": null,
   "id": "ca7965ab-dbb5-459b-9310-d0f84e3874b1",
   "metadata": {},
   "outputs": [],
   "source": [
    "fig.show()"
   ]
  },
  {
   "cell_type": "code",
   "execution_count": 90,
   "id": "d346e4c5-b087-4f14-8e46-e60b7582851e",
   "metadata": {},
   "outputs": [],
   "source": [
    "rmse = np.sqrt(np.mean(np.power((np.array(azn_adj['Adj Close'])-azn_adj['EMA10']),2)))"
   ]
  },
  {
   "cell_type": "code",
   "execution_count": 91,
   "id": "a2583894-629e-49f5-9093-c5eca96be74b",
   "metadata": {},
   "outputs": [
    {
     "data": {
      "text/plain": [
       "87.79752855061814"
      ]
     },
     "execution_count": 91,
     "metadata": {},
     "output_type": "execute_result"
    }
   ],
   "source": [
    "rmse"
   ]
  },
  {
   "cell_type": "code",
   "execution_count": 7,
   "id": "26f408dd-6521-4639-8fc8-138d36c77d08",
   "metadata": {},
   "outputs": [],
   "source": [
    "from sklearn.model_selection import train_test_split\n",
    "from sklearn.linear_model import LinearRegression\n",
    "from sklearn.preprocessing import LabelEncoder\n",
    "from sklearn.metrics import mean_squared_error\n",
    "import matplotlib.pyplot as plt"
   ]
  },
  {
   "cell_type": "code",
   "execution_count": 15,
   "id": "747455f1-9ac5-4b4d-b48c-97a1c76c8bc4",
   "metadata": {},
   "outputs": [
    {
     "name": "stdout",
     "output_type": "stream",
     "text": [
      "[*********************100%***********************]  1 of 1 completed\n"
     ]
    }
   ],
   "source": [
    "data = yf.download(\"AZN.L\", start=\"2010-01-01\", end=\"2022-01-01\")[['Adj Close','Open', 'High', 'Low', 'Close', 'Volume']].round(2)"
   ]
  },
  {
   "cell_type": "code",
   "execution_count": 39,
   "id": "e3f13d9a-5d6a-4770-98bc-dfe9ab41b260",
   "metadata": {},
   "outputs": [
    {
     "data": {
      "text/html": [
       "<div>\n",
       "<style scoped>\n",
       "    .dataframe tbody tr th:only-of-type {\n",
       "        vertical-align: middle;\n",
       "    }\n",
       "\n",
       "    .dataframe tbody tr th {\n",
       "        vertical-align: top;\n",
       "    }\n",
       "\n",
       "    .dataframe thead th {\n",
       "        text-align: right;\n",
       "    }\n",
       "</style>\n",
       "<table border=\"1\" class=\"dataframe\">\n",
       "  <thead>\n",
       "    <tr style=\"text-align: right;\">\n",
       "      <th></th>\n",
       "      <th>Open</th>\n",
       "      <th>High</th>\n",
       "      <th>Low</th>\n",
       "      <th>Close</th>\n",
       "    </tr>\n",
       "    <tr>\n",
       "      <th>Date</th>\n",
       "      <th></th>\n",
       "      <th></th>\n",
       "      <th></th>\n",
       "      <th></th>\n",
       "    </tr>\n",
       "  </thead>\n",
       "  <tbody>\n",
       "    <tr>\n",
       "      <th>2009-12-31</th>\n",
       "      <td>2913.5</td>\n",
       "      <td>2929.0</td>\n",
       "      <td>2892.00</td>\n",
       "      <td>2910.5</td>\n",
       "    </tr>\n",
       "    <tr>\n",
       "      <th>2010-01-04</th>\n",
       "      <td>2912.0</td>\n",
       "      <td>2946.0</td>\n",
       "      <td>2912.00</td>\n",
       "      <td>2941.0</td>\n",
       "    </tr>\n",
       "    <tr>\n",
       "      <th>2010-01-05</th>\n",
       "      <td>2936.0</td>\n",
       "      <td>2949.5</td>\n",
       "      <td>2901.00</td>\n",
       "      <td>2907.5</td>\n",
       "    </tr>\n",
       "    <tr>\n",
       "      <th>2010-01-06</th>\n",
       "      <td>2909.0</td>\n",
       "      <td>2909.0</td>\n",
       "      <td>2850.50</td>\n",
       "      <td>2875.0</td>\n",
       "    </tr>\n",
       "    <tr>\n",
       "      <th>2010-01-07</th>\n",
       "      <td>2879.0</td>\n",
       "      <td>2925.5</td>\n",
       "      <td>2879.00</td>\n",
       "      <td>2910.5</td>\n",
       "    </tr>\n",
       "    <tr>\n",
       "      <th>...</th>\n",
       "      <td>...</td>\n",
       "      <td>...</td>\n",
       "      <td>...</td>\n",
       "      <td>...</td>\n",
       "    </tr>\n",
       "    <tr>\n",
       "      <th>2021-12-23</th>\n",
       "      <td>8633.0</td>\n",
       "      <td>8653.0</td>\n",
       "      <td>8556.00</td>\n",
       "      <td>8596.0</td>\n",
       "    </tr>\n",
       "    <tr>\n",
       "      <th>2021-12-24</th>\n",
       "      <td>8613.0</td>\n",
       "      <td>8676.0</td>\n",
       "      <td>8608.49</td>\n",
       "      <td>8611.0</td>\n",
       "    </tr>\n",
       "    <tr>\n",
       "      <th>2021-12-29</th>\n",
       "      <td>8657.0</td>\n",
       "      <td>8720.0</td>\n",
       "      <td>8651.55</td>\n",
       "      <td>8656.0</td>\n",
       "    </tr>\n",
       "    <tr>\n",
       "      <th>2021-12-30</th>\n",
       "      <td>8649.0</td>\n",
       "      <td>8711.0</td>\n",
       "      <td>8630.00</td>\n",
       "      <td>8673.0</td>\n",
       "    </tr>\n",
       "    <tr>\n",
       "      <th>2021-12-31</th>\n",
       "      <td>8689.0</td>\n",
       "      <td>8704.0</td>\n",
       "      <td>8588.00</td>\n",
       "      <td>8678.0</td>\n",
       "    </tr>\n",
       "  </tbody>\n",
       "</table>\n",
       "<p>3034 rows × 4 columns</p>\n",
       "</div>"
      ],
      "text/plain": [
       "              Open    High      Low   Close\n",
       "Date                                       \n",
       "2009-12-31  2913.5  2929.0  2892.00  2910.5\n",
       "2010-01-04  2912.0  2946.0  2912.00  2941.0\n",
       "2010-01-05  2936.0  2949.5  2901.00  2907.5\n",
       "2010-01-06  2909.0  2909.0  2850.50  2875.0\n",
       "2010-01-07  2879.0  2925.5  2879.00  2910.5\n",
       "...            ...     ...      ...     ...\n",
       "2021-12-23  8633.0  8653.0  8556.00  8596.0\n",
       "2021-12-24  8613.0  8676.0  8608.49  8611.0\n",
       "2021-12-29  8657.0  8720.0  8651.55  8656.0\n",
       "2021-12-30  8649.0  8711.0  8630.00  8673.0\n",
       "2021-12-31  8689.0  8704.0  8588.00  8678.0\n",
       "\n",
       "[3034 rows x 4 columns]"
      ]
     },
     "execution_count": 39,
     "metadata": {},
     "output_type": "execute_result"
    }
   ],
   "source": [
    "data_X = data.iloc[:,1:5]\n",
    "data_X"
   ]
  },
  {
   "cell_type": "code",
   "execution_count": 40,
   "id": "38018b4f-5a61-48d2-b73d-6bdba37ddd90",
   "metadata": {},
   "outputs": [
    {
     "name": "stdout",
     "output_type": "stream",
     "text": [
      "\n",
      "\n",
      "Training Set\n",
      "              Open     High      Low   Close\n",
      "Date                                        \n",
      "2010-09-03  3285.5  3328.00  3282.50  3310.5\n",
      "2018-11-30  6172.0  6209.00  6117.00  6117.0\n",
      "2015-06-22  4234.5  4375.55  4193.78  4242.0\n",
      "2018-11-09  6118.0  6217.00  6069.00  6172.0\n",
      "2018-10-25  5830.0  5839.00  5615.00  5812.0\n",
      "Date\n",
      "2010-09-03    2011.67\n",
      "2018-11-30    5504.65\n",
      "2015-06-22    3300.35\n",
      "2018-11-09    5554.15\n",
      "2018-10-25    5230.19\n",
      "Name: Adj Close, dtype: float64\n"
     ]
    }
   ],
   "source": [
    "data_X = data.iloc[:,1:5]\n",
    "data_Y = data['Adj Close']\n",
    "train_X, test_X, train_y,test_y = train_test_split(data_X,data_Y,test_size=0.25)\n",
    "print('\\n\\nTraining Set')\n",
    "print(train_X.head())\n",
    "print(train_y.head())\n"
   ]
  },
  {
   "cell_type": "code",
   "execution_count": 41,
   "id": "0ee0ed26-b5b0-44f7-a9f0-e66d19acc302",
   "metadata": {},
   "outputs": [
    {
     "data": {
      "text/plain": [
       "LinearRegression()"
      ]
     },
     "execution_count": 41,
     "metadata": {},
     "output_type": "execute_result"
    }
   ],
   "source": [
    "regressor = LinearRegression()\n",
    "regressor.fit(train_X,train_y)"
   ]
  },
  {
   "cell_type": "code",
   "execution_count": 42,
   "id": "d377184c-706b-48dd-a3dc-72e0d8923d1e",
   "metadata": {},
   "outputs": [
    {
     "name": "stdout",
     "output_type": "stream",
     "text": [
      "Prediction Score :  0.9951411492567256\n",
      "Mean Squared Error :  21649.45050932066\n"
     ]
    }
   ],
   "source": [
    "#Make Predictions and Evaluate the results\n",
    "predict_y = regressor.predict(test_X)\n",
    "print('Prediction Score : ' , regressor.score(test_X,test_y))\n",
    "error = mean_squared_error(test_y,predict_y)\n",
    "print('Mean Squared Error : ',error)"
   ]
  },
  {
   "cell_type": "code",
   "execution_count": 43,
   "id": "794ec1ec-fc3a-4f6f-85a7-81d82efc7efe",
   "metadata": {},
   "outputs": [
    {
     "data": {
      "image/png": "[encoded data removed]",
      "text/plain": [
       "<Figure size 432x288 with 1 Axes>"
      ]
     },
     "metadata": {
      "needs_background": "light"
     },
     "output_type": "display_data"
    }
   ],
   "source": [
    "fig = plt.figure()\n",
    "ax = plt.axes()\n",
    "ax.grid()\n",
    "ax.set(xlabel='Close ($)',ylabel='Open ($)', title='Tesla Stock Prediction using Linear Regression')\n",
    "ax.plot(test_X['Open'],test_y)\n",
    "ax.plot(test_X['Open'],predict_y)\n",
    "fig.savefig('LRPlot.png')\n",
    "plt.show()"
   ]
  },
  {
   "cell_type": "code",
   "execution_count": 44,
   "id": "510b7063-26a8-4471-9847-df7687328b32",
   "metadata": {},
   "outputs": [
    {
     "data": {
      "text/plain": [
       "'0.995'"
      ]
     },
     "execution_count": 44,
     "metadata": {},
     "output_type": "execute_result"
    }
   ],
   "source": [
    "from sklearn.metrics import mean_squared_error, r2_score\n",
    "format(round(r2_score(test_y,predict_y), 3))"
   ]
  },
  {
   "cell_type": "code",
   "execution_count": 89,
   "id": "007ba5b0-75ac-44f4-9233-87449a77ceb3",
   "metadata": {},
   "outputs": [
    {
     "name": "stdout",
     "output_type": "stream",
     "text": [
      "[*********************100%***********************]  1 of 1 completed\n"
     ]
    }
   ],
   "source": [
    "azn_df= yf.download(\"AZN.L\", start=\"2010-01-01\", end=\"2022-01-01\")[['Adj Close','Open', 'High', 'Low', 'Close', 'Volume']].round(2)"
   ]
  },
  {
   "cell_type": "code",
   "execution_count": 90,
   "id": "ebafa069-5ab8-4298-be72-71f5a9644b86",
   "metadata": {},
   "outputs": [],
   "source": [
    "azn_adj['Date'] = pd.to_datetime(azn_adj.index, format='%Y-%m-%d')\n",
    "azn_adj.index = azn_adj['Date']"
   ]
  },
  {
   "cell_type": "code",
   "execution_count": 91,
   "id": "855d51c4-73e8-4fc6-b9c1-08c4b5b633f2",
   "metadata": {},
   "outputs": [],
   "source": [
    "azn_adj = pd.DataFrame(index=range(0,len(azn_df)),columns=['Date', 'Adj Close'])\n",
    "\n",
    "for i in range(0,len(azn_df)):\n",
    "     azn_adj['Date'][i] = azn_df.index[i]\n",
    "     azn_adj['Adj Close'][i] = azn_df['Adj Close'][i]"
   ]
  },
  {
   "cell_type": "code",
   "execution_count": 92,
   "id": "4f524f33-e09d-41d1-b775-29c14725ff60",
   "metadata": {},
   "outputs": [],
   "source": [
    "def add_datepart(df, fldname, drop=True, time=False):\n",
    "    \"\"\"\n",
    "    Helper function that adds columns relevant to a date.\n",
    "    \"\"\"\n",
    "    fld = df[fldname]\n",
    "    fld_dtype = fld.dtype\n",
    "    if isinstance(fld_dtype, pd.core.dtypes.dtypes.DatetimeTZDtype):\n",
    "        fld_dtype = np.datetime64\n",
    "\n",
    "    if not np.issubdtype(fld_dtype, np.datetime64):\n",
    "        df[fldname] = fld = pd.to_datetime(fld, infer_datetime_format=True)\n",
    "    targ_pre = re.sub('[Dd]ate$', '', fldname)\n",
    "    attr = ['Year', 'Month', 'Week', 'Day', 'Dayofweek', 'Dayofyear',\n",
    "            'Is_month_end', 'Is_month_start', 'Is_quarter_end', 'Is_quarter_start', 'Is_year_end', 'Is_year_start']\n",
    "    if time: attr = attr + ['Hour', 'Minute', 'Second']\n",
    "    for n in attr: df[targ_pre + n] = getattr(fld.dt, n.lower())\n",
    "    df[targ_pre + 'Elapsed'] = fld.astype(np.int64) // 10 ** 9\n",
    "    if drop: df.drop(fldname, axis=1, inplace=True)"
   ]
  },
  {
   "cell_type": "code",
   "execution_count": 93,
   "id": "9e51c9be-28ac-40d7-b5ab-17d2faaa0f0d",
   "metadata": {},
   "outputs": [],
   "source": [
    "add_datepart(azn_adj, 'Date')\n",
    "azn_adj.drop('Elapsed', axis=1, inplace=True)  # Elapsed is the time stamp"
   ]
  },
  {
   "cell_type": "code",
   "execution_count": 94,
   "id": "911e5df6-3b5b-43cc-9f27-f64ce288d672",
   "metadata": {},
   "outputs": [
    {
     "data": {
      "text/plain": [
       "Index(['Adj Close', 'Year', 'Month', 'Week', 'Day', 'Dayofweek', 'Dayofyear',\n",
       "       'Is_month_end', 'Is_month_start', 'Is_quarter_end', 'Is_quarter_start',\n",
       "       'Is_year_end', 'Is_year_start'],\n",
       "      dtype='object')"
      ]
     },
     "execution_count": 94,
     "metadata": {},
     "output_type": "execute_result"
    }
   ],
   "source": [
    "azn_adj.columns"
   ]
  },
  {
   "cell_type": "code",
   "execution_count": 95,
   "id": "c4c7c519-8798-4325-9755-d1461dc53596",
   "metadata": {},
   "outputs": [],
   "source": [
    "azn_adj['mon_fri'] = 0\n",
    "for i in range(0,len(azn_adj)):\n",
    "    if (azn_adj['Dayofweek'][i] == 0 or azn_adj['Dayofweek'][i] == 4):\n",
    "        azn_adj['mon_fri'][i] = 1\n",
    "    else:\n",
    "        azn_adj['mon_fri'][i] = 0"
   ]
  },
  {
   "cell_type": "code",
   "execution_count": 96,
   "id": "a1b42bed-6582-4f87-85bd-08a39ef2f5bf",
   "metadata": {},
   "outputs": [],
   "source": [
    "split = int(0.8*len(azn_adj))"
   ]
  },
  {
   "cell_type": "code",
   "execution_count": 97,
   "id": "9b1fc709-2a81-42be-a696-e77c4cf77295",
   "metadata": {},
   "outputs": [],
   "source": [
    "train, test = azn_adj[:split], azn_adj[split:]"
   ]
  },
  {
   "cell_type": "code",
   "execution_count": 98,
   "id": "8fba447b-9ddb-43a2-b200-ca3c33520f82",
   "metadata": {},
   "outputs": [
    {
     "data": {
      "text/plain": [
       "((3034, 14), (2427, 14), (607, 14))"
      ]
     },
     "execution_count": 98,
     "metadata": {},
     "output_type": "execute_result"
    }
   ],
   "source": [
    "azn_adj.shape, train.shape, test.shape"
   ]
  },
  {
   "cell_type": "code",
   "execution_count": 99,
   "id": "34d0b787-cafc-4e05-a3e0-7f6613ba9227",
   "metadata": {},
   "outputs": [],
   "source": [
    "X_train = train.drop('Adj Close', axis=1)\n",
    "y_train = train['Adj Close']\n",
    "X_test = test.drop('Adj Close', axis=1)\n",
    "y_test = test['Adj Close']"
   ]
  },
  {
   "cell_type": "code",
   "execution_count": 100,
   "id": "5d703f15-b89b-4667-9721-e5c29e617f90",
   "metadata": {},
   "outputs": [
    {
     "data": {
      "text/plain": [
       "((2427, 13), (2427,), (607, 13), (607,))"
      ]
     },
     "execution_count": 100,
     "metadata": {},
     "output_type": "execute_result"
    }
   ],
   "source": [
    "X_train.shape, y_train.shape, X_test.shape, y_test.shape"
   ]
  },
  {
   "cell_type": "code",
   "execution_count": 132,
   "id": "ce5c8b91-8c5f-4da7-a078-c0dc378cb484",
   "metadata": {},
   "outputs": [
    {
     "data": {
      "text/html": [
       "<div>\n",
       "<style scoped>\n",
       "    .dataframe tbody tr th:only-of-type {\n",
       "        vertical-align: middle;\n",
       "    }\n",
       "\n",
       "    .dataframe tbody tr th {\n",
       "        vertical-align: top;\n",
       "    }\n",
       "\n",
       "    .dataframe thead th {\n",
       "        text-align: right;\n",
       "    }\n",
       "</style>\n",
       "<table border=\"1\" class=\"dataframe\">\n",
       "  <thead>\n",
       "    <tr style=\"text-align: right;\">\n",
       "      <th></th>\n",
       "      <th>preds</th>\n",
       "    </tr>\n",
       "  </thead>\n",
       "  <tbody>\n",
       "    <tr>\n",
       "      <th>0</th>\n",
       "      <td>5210.240450</td>\n",
       "    </tr>\n",
       "    <tr>\n",
       "      <th>1</th>\n",
       "      <td>5217.376028</td>\n",
       "    </tr>\n",
       "    <tr>\n",
       "      <th>2</th>\n",
       "      <td>5215.363549</td>\n",
       "    </tr>\n",
       "    <tr>\n",
       "      <th>3</th>\n",
       "      <td>5215.228995</td>\n",
       "    </tr>\n",
       "    <tr>\n",
       "      <th>4</th>\n",
       "      <td>5215.094440</td>\n",
       "    </tr>\n",
       "    <tr>\n",
       "      <th>...</th>\n",
       "      <td>...</td>\n",
       "    </tr>\n",
       "    <tr>\n",
       "      <th>602</th>\n",
       "      <td>6143.059857</td>\n",
       "    </tr>\n",
       "    <tr>\n",
       "      <th>603</th>\n",
       "      <td>6144.803226</td>\n",
       "    </tr>\n",
       "    <tr>\n",
       "      <th>604</th>\n",
       "      <td>6149.791770</td>\n",
       "    </tr>\n",
       "    <tr>\n",
       "      <th>605</th>\n",
       "      <td>6149.657215</td>\n",
       "    </tr>\n",
       "    <tr>\n",
       "      <th>606</th>\n",
       "      <td>6247.768143</td>\n",
       "    </tr>\n",
       "  </tbody>\n",
       "</table>\n",
       "<p>607 rows × 1 columns</p>\n",
       "</div>"
      ],
      "text/plain": [
       "           preds\n",
       "0    5210.240450\n",
       "1    5217.376028\n",
       "2    5215.363549\n",
       "3    5215.228995\n",
       "4    5215.094440\n",
       "..           ...\n",
       "602  6143.059857\n",
       "603  6144.803226\n",
       "604  6149.791770\n",
       "605  6149.657215\n",
       "606  6247.768143\n",
       "\n",
       "[607 rows x 1 columns]"
      ]
     },
     "execution_count": 132,
     "metadata": {},
     "output_type": "execute_result"
    }
   ],
   "source": [
    "\n"
   ]
  },
  {
   "cell_type": "code",
   "execution_count": 101,
   "id": "7c2e7a04-6af7-4fef-b452-eec5af76a65a",
   "metadata": {},
   "outputs": [
    {
     "data": {
      "text/plain": [
       "LinearRegression()"
      ]
     },
     "execution_count": 101,
     "metadata": {},
     "output_type": "execute_result"
    }
   ],
   "source": [
    "model = LinearRegression()\n",
    "\n",
    "# Train model\n",
    "model.fit(X_train,y_train)"
   ]
  },
  {
   "cell_type": "code",
   "execution_count": 106,
   "id": "21334a9f-0a53-4e47-8a96-42aaf6a85dee",
   "metadata": {},
   "outputs": [
    {
     "data": {
      "text/plain": [
       "(607,)"
      ]
     },
     "execution_count": 106,
     "metadata": {},
     "output_type": "execute_result"
    }
   ],
   "source": [
    "preds = model.predict(X_test)\n",
    "preds.shape"
   ]
  },
  {
   "cell_type": "code",
   "execution_count": 143,
   "id": "25f273fc-d7c1-458d-92a4-640635bdca9a",
   "metadata": {},
   "outputs": [
    {
     "data": {
      "text/html": [
       "<div>\n",
       "<style scoped>\n",
       "    .dataframe tbody tr th:only-of-type {\n",
       "        vertical-align: middle;\n",
       "    }\n",
       "\n",
       "    .dataframe tbody tr th {\n",
       "        vertical-align: top;\n",
       "    }\n",
       "\n",
       "    .dataframe thead th {\n",
       "        text-align: right;\n",
       "    }\n",
       "</style>\n",
       "<table border=\"1\" class=\"dataframe\">\n",
       "  <thead>\n",
       "    <tr style=\"text-align: right;\">\n",
       "      <th></th>\n",
       "      <th>preds</th>\n",
       "    </tr>\n",
       "  </thead>\n",
       "  <tbody>\n",
       "    <tr>\n",
       "      <th>0</th>\n",
       "      <td>5210.240450</td>\n",
       "    </tr>\n",
       "    <tr>\n",
       "      <th>1</th>\n",
       "      <td>5217.376028</td>\n",
       "    </tr>\n",
       "    <tr>\n",
       "      <th>2</th>\n",
       "      <td>5215.363549</td>\n",
       "    </tr>\n",
       "    <tr>\n",
       "      <th>3</th>\n",
       "      <td>5215.228995</td>\n",
       "    </tr>\n",
       "    <tr>\n",
       "      <th>4</th>\n",
       "      <td>5215.094440</td>\n",
       "    </tr>\n",
       "    <tr>\n",
       "      <th>...</th>\n",
       "      <td>...</td>\n",
       "    </tr>\n",
       "    <tr>\n",
       "      <th>602</th>\n",
       "      <td>6143.059857</td>\n",
       "    </tr>\n",
       "    <tr>\n",
       "      <th>603</th>\n",
       "      <td>6144.803226</td>\n",
       "    </tr>\n",
       "    <tr>\n",
       "      <th>604</th>\n",
       "      <td>6149.791770</td>\n",
       "    </tr>\n",
       "    <tr>\n",
       "      <th>605</th>\n",
       "      <td>6149.657215</td>\n",
       "    </tr>\n",
       "    <tr>\n",
       "      <th>606</th>\n",
       "      <td>6247.768143</td>\n",
       "    </tr>\n",
       "  </tbody>\n",
       "</table>\n",
       "<p>607 rows × 1 columns</p>\n",
       "</div>"
      ],
      "text/plain": [
       "           preds\n",
       "0    5210.240450\n",
       "1    5217.376028\n",
       "2    5215.363549\n",
       "3    5215.228995\n",
       "4    5215.094440\n",
       "..           ...\n",
       "602  6143.059857\n",
       "603  6144.803226\n",
       "604  6149.791770\n",
       "605  6149.657215\n",
       "606  6247.768143\n",
       "\n",
       "[607 rows x 1 columns]"
      ]
     },
     "execution_count": 143,
     "metadata": {},
     "output_type": "execute_result"
    }
   ],
   "source": [
    "c = pd.DataFrame(preds, columns = ['preds'])\n",
    "c"
   ]
  },
  {
   "cell_type": "code",
   "execution_count": null,
   "id": "4ba0a1f0-318e-400b-90cb-e692c1fbd91b",
   "metadata": {},
   "outputs": [],
   "source": []
  },
  {
   "cell_type": "code",
   "execution_count": 125,
   "id": "36da1fc8-4973-413c-b496-4d990843ea53",
   "metadata": {},
   "outputs": [
    {
     "data": {
      "text/html": [
       "<div>\n",
       "<style scoped>\n",
       "    .dataframe tbody tr th:only-of-type {\n",
       "        vertical-align: middle;\n",
       "    }\n",
       "\n",
       "    .dataframe tbody tr th {\n",
       "        vertical-align: top;\n",
       "    }\n",
       "\n",
       "    .dataframe thead th {\n",
       "        text-align: right;\n",
       "    }\n",
       "</style>\n",
       "<table border=\"1\" class=\"dataframe\">\n",
       "  <thead>\n",
       "    <tr style=\"text-align: right;\">\n",
       "      <th></th>\n",
       "      <th>index</th>\n",
       "      <th>Column_b</th>\n",
       "    </tr>\n",
       "  </thead>\n",
       "  <tbody>\n",
       "  </tbody>\n",
       "</table>\n",
       "</div>"
      ],
      "text/plain": [
       "Empty DataFrame\n",
       "Columns: [index, Column_b]\n",
       "Index: []"
      ]
     },
     "execution_count": 125,
     "metadata": {},
     "output_type": "execute_result"
    }
   ],
   "source": [
    "\n",
    "\n"
   ]
  },
  {
   "cell_type": "code",
   "execution_count": 133,
   "id": "1c88b1f9-1205-49ef-81d5-fb2e19478091",
   "metadata": {},
   "outputs": [],
   "source": [
    "n = pd.DataFrame(y_test, columns = ['act'])\n"
   ]
  },
  {
   "cell_type": "code",
   "execution_count": 137,
   "id": "a40e1e08-d4e7-4947-8859-530ae64c42b3",
   "metadata": {},
   "outputs": [
    {
     "data": {
      "text/plain": [
       "pandas.core.series.Series"
      ]
     },
     "execution_count": 137,
     "metadata": {},
     "output_type": "execute_result"
    }
   ],
   "source": [
    "type(y_test)"
   ]
  },
  {
   "cell_type": "code",
   "execution_count": 142,
   "id": "360a1812-b8d0-4f19-bf6b-0eca2ee652d2",
   "metadata": {},
   "outputs": [],
   "source": [
    "y_test.to_frame()\n",
    "a=y_test.reset_index()\n",
    "fully_final=a[[  'Adj Close']]"
   ]
  },
  {
   "cell_type": "code",
   "execution_count": 145,
   "id": "63870782-9d07-417a-b26d-053dc28f12e7",
   "metadata": {},
   "outputs": [],
   "source": [
    "fully_final=pd.concat((fully_final,c) ,axis=1)"
   ]
  },
  {
   "cell_type": "code",
   "execution_count": 146,
   "id": "7850b890-a67d-4149-88cc-a9baadb999f6",
   "metadata": {},
   "outputs": [
    {
     "data": {
      "text/html": [
       "<div>\n",
       "<style scoped>\n",
       "    .dataframe tbody tr th:only-of-type {\n",
       "        vertical-align: middle;\n",
       "    }\n",
       "\n",
       "    .dataframe tbody tr th {\n",
       "        vertical-align: top;\n",
       "    }\n",
       "\n",
       "    .dataframe thead th {\n",
       "        text-align: right;\n",
       "    }\n",
       "</style>\n",
       "<table border=\"1\" class=\"dataframe\">\n",
       "  <thead>\n",
       "    <tr style=\"text-align: right;\">\n",
       "      <th></th>\n",
       "      <th>Adj Close</th>\n",
       "      <th>preds</th>\n",
       "    </tr>\n",
       "  </thead>\n",
       "  <tbody>\n",
       "    <tr>\n",
       "      <th>0</th>\n",
       "      <td>6842.46</td>\n",
       "      <td>5210.240450</td>\n",
       "    </tr>\n",
       "    <tr>\n",
       "      <th>1</th>\n",
       "      <td>6822.91</td>\n",
       "      <td>5217.376028</td>\n",
       "    </tr>\n",
       "    <tr>\n",
       "      <th>2</th>\n",
       "      <td>6834.08</td>\n",
       "      <td>5215.363549</td>\n",
       "    </tr>\n",
       "    <tr>\n",
       "      <th>3</th>\n",
       "      <td>6766.13</td>\n",
       "      <td>5215.228995</td>\n",
       "    </tr>\n",
       "    <tr>\n",
       "      <th>4</th>\n",
       "      <td>6729.83</td>\n",
       "      <td>5215.094440</td>\n",
       "    </tr>\n",
       "    <tr>\n",
       "      <th>...</th>\n",
       "      <td>...</td>\n",
       "      <td>...</td>\n",
       "    </tr>\n",
       "    <tr>\n",
       "      <th>602</th>\n",
       "      <td>8457.35</td>\n",
       "      <td>6143.059857</td>\n",
       "    </tr>\n",
       "    <tr>\n",
       "      <th>603</th>\n",
       "      <td>8472.1</td>\n",
       "      <td>6144.803226</td>\n",
       "    </tr>\n",
       "    <tr>\n",
       "      <th>604</th>\n",
       "      <td>8516.38</td>\n",
       "      <td>6149.791770</td>\n",
       "    </tr>\n",
       "    <tr>\n",
       "      <th>605</th>\n",
       "      <td>8533.1</td>\n",
       "      <td>6149.657215</td>\n",
       "    </tr>\n",
       "    <tr>\n",
       "      <th>606</th>\n",
       "      <td>8538.02</td>\n",
       "      <td>6247.768143</td>\n",
       "    </tr>\n",
       "  </tbody>\n",
       "</table>\n",
       "<p>607 rows × 2 columns</p>\n",
       "</div>"
      ],
      "text/plain": [
       "    Adj Close        preds\n",
       "0     6842.46  5210.240450\n",
       "1     6822.91  5217.376028\n",
       "2     6834.08  5215.363549\n",
       "3     6766.13  5215.228995\n",
       "4     6729.83  5215.094440\n",
       "..        ...          ...\n",
       "602   8457.35  6143.059857\n",
       "603    8472.1  6144.803226\n",
       "604   8516.38  6149.791770\n",
       "605    8533.1  6149.657215\n",
       "606   8538.02  6247.768143\n",
       "\n",
       "[607 rows x 2 columns]"
      ]
     },
     "execution_count": 146,
     "metadata": {},
     "output_type": "execute_result"
    }
   ],
   "source": [
    "fully_final"
   ]
  },
  {
   "cell_type": "code",
   "execution_count": 148,
   "id": "c463ab06-5b79-4ecd-9efa-b029003f3fe1",
   "metadata": {},
   "outputs": [
    {
     "ename": "ValueError",
     "evalue": "Cannot accept list of column references or list of columns for both `x` and `y`.",
     "output_type": "error",
     "traceback": [
      "\u001b[1;31m---------------------------------------------------------------------------\u001b[0m",
      "\u001b[1;31mValueError\u001b[0m                                Traceback (most recent call last)",
      "\u001b[1;32mC:\\Users\\ABDULH~1\\AppData\\Local\\Temp/ipykernel_16100/2999122147.py\u001b[0m in \u001b[0;36m<module>\u001b[1;34m\u001b[0m\n\u001b[0;32m      1\u001b[0m \u001b[1;32mimport\u001b[0m \u001b[0mplotly\u001b[0m\u001b[1;33m.\u001b[0m\u001b[0mexpress\u001b[0m \u001b[1;32mas\u001b[0m \u001b[0mpx\u001b[0m\u001b[1;33m\u001b[0m\u001b[1;33m\u001b[0m\u001b[0m\n\u001b[1;32m----> 2\u001b[1;33m \u001b[0mfig\u001b[0m \u001b[1;33m=\u001b[0m \u001b[0mpx\u001b[0m\u001b[1;33m.\u001b[0m\u001b[0mline\u001b[0m\u001b[1;33m(\u001b[0m\u001b[0mfully_final\u001b[0m\u001b[1;33m,\u001b[0m \u001b[0mx\u001b[0m\u001b[1;33m=\u001b[0m\u001b[1;33m[\u001b[0m\u001b[1;34m'preds'\u001b[0m\u001b[1;33m]\u001b[0m\u001b[1;33m,\u001b[0m \u001b[0my\u001b[0m\u001b[1;33m=\u001b[0m\u001b[0mfully_final\u001b[0m\u001b[1;33m.\u001b[0m\u001b[0mcolumns\u001b[0m\u001b[1;33m[\u001b[0m\u001b[1;36m0\u001b[0m\u001b[1;33m:\u001b[0m\u001b[1;36m2\u001b[0m\u001b[1;33m]\u001b[0m\u001b[1;33m)\u001b[0m\u001b[1;33m\u001b[0m\u001b[1;33m\u001b[0m\u001b[0m\n\u001b[0m",
      "\u001b[1;32mc:\\users\\abdulhameed\\appdata\\local\\programs\\python\\python39\\lib\\site-packages\\plotly\\express\\_chart_types.py\u001b[0m in \u001b[0;36mline\u001b[1;34m(data_frame, x, y, line_group, color, line_dash, symbol, hover_name, hover_data, custom_data, text, facet_row, facet_col, facet_col_wrap, facet_row_spacing, facet_col_spacing, error_x, error_x_minus, error_y, error_y_minus, animation_frame, animation_group, category_orders, labels, orientation, color_discrete_sequence, color_discrete_map, line_dash_sequence, line_dash_map, symbol_sequence, symbol_map, markers, log_x, log_y, range_x, range_y, line_shape, render_mode, title, template, width, height)\u001b[0m\n\u001b[0;32m    260\u001b[0m     \u001b[0ma\u001b[0m \u001b[0mpolyline\u001b[0m \u001b[0mmark\u001b[0m \u001b[1;32min\u001b[0m \u001b[1;36m2\u001b[0m\u001b[0mD\u001b[0m \u001b[0mspace\u001b[0m\u001b[1;33m.\u001b[0m\u001b[1;33m\u001b[0m\u001b[1;33m\u001b[0m\u001b[0m\n\u001b[0;32m    261\u001b[0m     \"\"\"\n\u001b[1;32m--> 262\u001b[1;33m     \u001b[1;32mreturn\u001b[0m \u001b[0mmake_figure\u001b[0m\u001b[1;33m(\u001b[0m\u001b[0margs\u001b[0m\u001b[1;33m=\u001b[0m\u001b[0mlocals\u001b[0m\u001b[1;33m(\u001b[0m\u001b[1;33m)\u001b[0m\u001b[1;33m,\u001b[0m \u001b[0mconstructor\u001b[0m\u001b[1;33m=\u001b[0m\u001b[0mgo\u001b[0m\u001b[1;33m.\u001b[0m\u001b[0mScatter\u001b[0m\u001b[1;33m)\u001b[0m\u001b[1;33m\u001b[0m\u001b[1;33m\u001b[0m\u001b[0m\n\u001b[0m\u001b[0;32m    263\u001b[0m \u001b[1;33m\u001b[0m\u001b[0m\n\u001b[0;32m    264\u001b[0m \u001b[1;33m\u001b[0m\u001b[0m\n",
      "\u001b[1;32mc:\\users\\abdulhameed\\appdata\\local\\programs\\python\\python39\\lib\\site-packages\\plotly\\express\\_core.py\u001b[0m in \u001b[0;36mmake_figure\u001b[1;34m(args, constructor, trace_patch, layout_patch)\u001b[0m\n\u001b[0;32m   1943\u001b[0m     \u001b[0mapply_default_cascade\u001b[0m\u001b[1;33m(\u001b[0m\u001b[0margs\u001b[0m\u001b[1;33m)\u001b[0m\u001b[1;33m\u001b[0m\u001b[1;33m\u001b[0m\u001b[0m\n\u001b[0;32m   1944\u001b[0m \u001b[1;33m\u001b[0m\u001b[0m\n\u001b[1;32m-> 1945\u001b[1;33m     \u001b[0margs\u001b[0m \u001b[1;33m=\u001b[0m \u001b[0mbuild_dataframe\u001b[0m\u001b[1;33m(\u001b[0m\u001b[0margs\u001b[0m\u001b[1;33m,\u001b[0m \u001b[0mconstructor\u001b[0m\u001b[1;33m)\u001b[0m\u001b[1;33m\u001b[0m\u001b[1;33m\u001b[0m\u001b[0m\n\u001b[0m\u001b[0;32m   1946\u001b[0m     \u001b[1;32mif\u001b[0m \u001b[0mconstructor\u001b[0m \u001b[1;32min\u001b[0m \u001b[1;33m[\u001b[0m\u001b[0mgo\u001b[0m\u001b[1;33m.\u001b[0m\u001b[0mTreemap\u001b[0m\u001b[1;33m,\u001b[0m \u001b[0mgo\u001b[0m\u001b[1;33m.\u001b[0m\u001b[0mSunburst\u001b[0m\u001b[1;33m,\u001b[0m \u001b[0mgo\u001b[0m\u001b[1;33m.\u001b[0m\u001b[0mIcicle\u001b[0m\u001b[1;33m]\u001b[0m \u001b[1;32mand\u001b[0m \u001b[0margs\u001b[0m\u001b[1;33m[\u001b[0m\u001b[1;34m\"path\"\u001b[0m\u001b[1;33m]\u001b[0m \u001b[1;32mis\u001b[0m \u001b[1;32mnot\u001b[0m \u001b[1;32mNone\u001b[0m\u001b[1;33m:\u001b[0m\u001b[1;33m\u001b[0m\u001b[1;33m\u001b[0m\u001b[0m\n\u001b[0;32m   1947\u001b[0m         \u001b[0margs\u001b[0m \u001b[1;33m=\u001b[0m \u001b[0mprocess_dataframe_hierarchy\u001b[0m\u001b[1;33m(\u001b[0m\u001b[0margs\u001b[0m\u001b[1;33m)\u001b[0m\u001b[1;33m\u001b[0m\u001b[1;33m\u001b[0m\u001b[0m\n",
      "\u001b[1;32mc:\\users\\abdulhameed\\appdata\\local\\programs\\python\\python39\\lib\\site-packages\\plotly\\express\\_core.py\u001b[0m in \u001b[0;36mbuild_dataframe\u001b[1;34m(args, constructor)\u001b[0m\n\u001b[0;32m   1322\u001b[0m     \u001b[1;32mif\u001b[0m \u001b[0mconstructor\u001b[0m \u001b[1;32min\u001b[0m \u001b[0mcartesians\u001b[0m\u001b[1;33m:\u001b[0m\u001b[1;33m\u001b[0m\u001b[1;33m\u001b[0m\u001b[0m\n\u001b[0;32m   1323\u001b[0m         \u001b[1;32mif\u001b[0m \u001b[0mwide_x\u001b[0m \u001b[1;32mand\u001b[0m \u001b[0mwide_y\u001b[0m\u001b[1;33m:\u001b[0m\u001b[1;33m\u001b[0m\u001b[1;33m\u001b[0m\u001b[0m\n\u001b[1;32m-> 1324\u001b[1;33m             raise ValueError(\n\u001b[0m\u001b[0;32m   1325\u001b[0m                 \u001b[1;34m\"Cannot accept list of column references or list of columns for both `x` and `y`.\"\u001b[0m\u001b[1;33m\u001b[0m\u001b[1;33m\u001b[0m\u001b[0m\n\u001b[0;32m   1326\u001b[0m             )\n",
      "\u001b[1;31mValueError\u001b[0m: Cannot accept list of column references or list of columns for both `x` and `y`."
     ]
    }
   ],
   "source": [
    "import plotly.express as px \n",
    "fig = px.line(fully_final, x=['preds'], y=fully_final.columns[0:2])\n"
   ]
  },
  {
   "cell_type": "code",
   "execution_count": 165,
   "id": "211cf7e3-88cf-4a86-b24c-8a7553c155e7",
   "metadata": {},
   "outputs": [
    {
     "ename": "AttributeError",
     "evalue": "'builtin_function_or_method' object has no attribute 'round'",
     "output_type": "error",
     "traceback": [
      "\u001b[1;31m---------------------------------------------------------------------------\u001b[0m",
      "\u001b[1;31mAttributeError\u001b[0m                            Traceback (most recent call last)",
      "\u001b[1;32mC:\\Users\\ABDULH~1\\AppData\\Local\\Temp/ipykernel_16100/3800423398.py\u001b[0m in \u001b[0;36m<module>\u001b[1;34m\u001b[0m\n\u001b[1;32m----> 1\u001b[1;33m \u001b[0mformat\u001b[0m\u001b[1;33m.\u001b[0m\u001b[0mround\u001b[0m\u001b[1;33m(\u001b[0m\u001b[1;33m(\u001b[0m\u001b[0mr2_score\u001b[0m\u001b[1;33m(\u001b[0m\u001b[0my_test\u001b[0m\u001b[1;33m,\u001b[0m\u001b[0mc\u001b[0m \u001b[1;33m)\u001b[0m\u001b[1;33m,\u001b[0m\u001b[1;36m3\u001b[0m\u001b[1;33m)\u001b[0m\u001b[1;33m)\u001b[0m\u001b[1;33m\u001b[0m\u001b[1;33m\u001b[0m\u001b[0m\n\u001b[0m",
      "\u001b[1;31mAttributeError\u001b[0m: 'builtin_function_or_method' object has no attribute 'round'"
     ]
    }
   ],
   "source": []
  },
  {
   "cell_type": "code",
   "execution_count": 174,
   "id": "bc1d7a47-4d98-435f-bda1-b4ffa443171b",
   "metadata": {},
   "outputs": [
    {
     "data": {
      "text/plain": [
       "'-7.5'"
      ]
     },
     "execution_count": 174,
     "metadata": {},
     "output_type": "execute_result"
    }
   ],
   "source": [
    "format(round(r2_score(y_test,preds), 1))"
   ]
  },
  {
   "cell_type": "code",
   "execution_count": null,
   "id": "b7599a2d-3882-46ce-b3c9-3f6b6bde2fbd",
   "metadata": {},
   "outputs": [],
   "source": []
  }
 ],
 "metadata": {
  "kernelspec": {
   "display_name": "Python 3 (ipykernel)",
   "language": "python",
   "name": "python3"
  },
  "language_info": {
   "codemirror_mode": {
    "name": "ipython",
    "version": 3
   },
   "file_extension": ".py",
   "mimetype": "text/x-python",
   "name": "python",
   "nbconvert_exporter": "python",
   "pygments_lexer": "ipython3",
   "version": "3.9.6"
  }
 },
 "nbformat": 4,
 "nbformat_minor": 5
}
