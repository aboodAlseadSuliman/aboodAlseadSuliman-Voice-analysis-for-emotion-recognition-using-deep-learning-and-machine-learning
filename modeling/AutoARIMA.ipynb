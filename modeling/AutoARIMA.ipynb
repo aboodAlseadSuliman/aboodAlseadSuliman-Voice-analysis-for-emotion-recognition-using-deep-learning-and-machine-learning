{
 "cells": [
  {
   "cell_type": "markdown",
   "metadata": {
    "id": "XXD3qEUzEjxa"
   },
   "source": [
    "# Comparison of Time Series, Machine Learning and Deep Learning models\n",
    "\n",
    "## 1. Introduction\n",
    "\n",
    "Various models will be explored to forecast Adjusted Close prices for AstraZeneca stock price data from simple machine learning algorithms such as Moving Average, Linear Regression and k-Nearest Neighbours, to Auto ARIMA, Facebook's Prophet and LSTM.  \n"
   ]
  },
  {
   "cell_type": "markdown",
   "metadata": {
    "id": "gqz6PUZVE2_9"
   },
   "source": [
    "## 2. Install/import libraries"
   ]
  },
  {
   "cell_type": "code",
   "execution_count": null,
   "metadata": {
    "id": "qY6qkQediyN9"
   },
   "outputs": [],
   "source": [
    "!pip install yfinance as yfinance\n",
    "!pip install pmdarima\n",
    "!pip install fbprophet"
   ]
  },
  {
   "cell_type": "code",
   "execution_count": 2,
   "metadata": {
    "id": "l387xTS7i5lU"
   },
   "outputs": [],
   "source": [
    "import yfinance as yf\n",
    "import numpy as np\n",
    "import pandas as pd\n",
    "import matplotlib.pyplot as plt\n",
    "import seaborn as sns\n",
    "import plotly.graph_objects as go\n",
    "import re\n",
    "import statsmodels.tsa.api as smt\n",
    "import statsmodels.api as sm\n",
    "import datetime\n",
    "import warnings\n",
    "warnings.filterwarnings('ignore')\n",
    "\n",
    "%matplotlib inline\n",
    "\n",
    "from pandas import DataFrame\n",
    "\n",
    "from sklearn.linear_model import LinearRegression\n",
    "from sklearn.neighbors import KNeighborsRegressor\n",
    "from sklearn.preprocessing import MinMaxScaler\n",
    "from sklearn.model_selection import GridSearchCV\n",
    "\n",
    "from keras.models import Sequential\n",
    "from keras.layers import Dense, Dropout, LSTM\n",
    "\n",
    "from pmdarima import auto_arima\n",
    "\n",
    "from statsmodels.tsa.stattools import adfuller\n",
    "from statsmodels.graphics.tsaplots import plot_acf, plot_pacf\n",
    "from statsmodels.graphics.gofplots import qqplot\n",
    "from statsmodels.tsa.arima.model import ARIMA\n",
    "from statsmodels.tsa.statespace.sarimax import SARIMAX\n",
    "from statsmodels.stats.diagnostic import acorr_ljungbox\n",
    "from itertools import product\n",
    "from tqdm.notebook import tqdm\n",
    "from datetime import date, timedelta\n"
   ]
  },
  {
   "cell_type": "code",
   "execution_count": null,
   "metadata": {},
   "outputs": [],
   "source": []
  },
  {
   "cell_type": "markdown",
   "metadata": {
    "id": "YZLI71YkFCaQ"
   },
   "source": [
    "\n",
    "\n",
    "\n",
    "Read in AstraZeneca stock data downloaded from Yahoo! Finance using yfinance API into a pandas DataFrame. "
   ]
  },
  {
   "cell_type": "code",
   "execution_count": 3,
   "metadata": {
    "colab": {
     "base_uri": "https://localhost:8080/"
    },
    "id": "YKxRevadsU9F",
    "outputId": "e320c1a2-bb04-4bbf-b19a-310dc858b333"
   },
   "outputs": [
    {
     "name": "stdout",
     "output_type": "stream",
     "text": [
      "[*********************100%***********************]  1 of 1 completed\n"
     ]
    }
   ],
   "source": [
    "azn_df = yf.download(\"AZN.L\", start=\"2010-01-01\", end=\"2020-01-01\")[['Adj Close','Open', 'High', 'Low', 'Close', 'Volume']].round(2)"
   ]
  },
  {
   "cell_type": "code",
   "execution_count": 4,
   "metadata": {
    "colab": {
     "base_uri": "https://localhost:8080/",
     "height": 450
    },
    "id": "Cl_WByuPs7PB",
    "outputId": "3011d5ca-66b4-4141-abc4-b990c2a2b885"
   },
   "outputs": [
    {
     "data": {
      "text/html": [
       "<div>\n",
       "<style scoped>\n",
       "    .dataframe tbody tr th:only-of-type {\n",
       "        vertical-align: middle;\n",
       "    }\n",
       "\n",
       "    .dataframe tbody tr th {\n",
       "        vertical-align: top;\n",
       "    }\n",
       "\n",
       "    .dataframe thead th {\n",
       "        text-align: right;\n",
       "    }\n",
       "</style>\n",
       "<table border=\"1\" class=\"dataframe\">\n",
       "  <thead>\n",
       "    <tr style=\"text-align: right;\">\n",
       "      <th></th>\n",
       "      <th>Adj Close</th>\n",
       "      <th>Open</th>\n",
       "      <th>High</th>\n",
       "      <th>Low</th>\n",
       "      <th>Close</th>\n",
       "      <th>Volume</th>\n",
       "    </tr>\n",
       "    <tr>\n",
       "      <th>Date</th>\n",
       "      <th></th>\n",
       "      <th></th>\n",
       "      <th></th>\n",
       "      <th></th>\n",
       "      <th></th>\n",
       "      <th></th>\n",
       "    </tr>\n",
       "  </thead>\n",
       "  <tbody>\n",
       "    <tr>\n",
       "      <th>2009-12-31</th>\n",
       "      <td>1681.68</td>\n",
       "      <td>2913.5</td>\n",
       "      <td>2929.0</td>\n",
       "      <td>2892.00</td>\n",
       "      <td>2910.5</td>\n",
       "      <td>606488</td>\n",
       "    </tr>\n",
       "    <tr>\n",
       "      <th>2010-01-04</th>\n",
       "      <td>1699.30</td>\n",
       "      <td>2912.0</td>\n",
       "      <td>2946.0</td>\n",
       "      <td>2912.00</td>\n",
       "      <td>2941.0</td>\n",
       "      <td>2091679</td>\n",
       "    </tr>\n",
       "    <tr>\n",
       "      <th>2010-01-05</th>\n",
       "      <td>1679.94</td>\n",
       "      <td>2936.0</td>\n",
       "      <td>2949.5</td>\n",
       "      <td>2901.00</td>\n",
       "      <td>2907.5</td>\n",
       "      <td>2869739</td>\n",
       "    </tr>\n",
       "    <tr>\n",
       "      <th>2010-01-06</th>\n",
       "      <td>1661.16</td>\n",
       "      <td>2909.0</td>\n",
       "      <td>2909.0</td>\n",
       "      <td>2850.50</td>\n",
       "      <td>2875.0</td>\n",
       "      <td>3136541</td>\n",
       "    </tr>\n",
       "    <tr>\n",
       "      <th>2010-01-07</th>\n",
       "      <td>1681.68</td>\n",
       "      <td>2879.0</td>\n",
       "      <td>2925.5</td>\n",
       "      <td>2879.00</td>\n",
       "      <td>2910.5</td>\n",
       "      <td>3748200</td>\n",
       "    </tr>\n",
       "    <tr>\n",
       "      <th>...</th>\n",
       "      <td>...</td>\n",
       "      <td>...</td>\n",
       "      <td>...</td>\n",
       "      <td>...</td>\n",
       "      <td>...</td>\n",
       "      <td>...</td>\n",
       "    </tr>\n",
       "    <tr>\n",
       "      <th>2019-12-23</th>\n",
       "      <td>7210.13</td>\n",
       "      <td>7771.0</td>\n",
       "      <td>7824.0</td>\n",
       "      <td>7723.87</td>\n",
       "      <td>7746.0</td>\n",
       "      <td>2183949</td>\n",
       "    </tr>\n",
       "    <tr>\n",
       "      <th>2019-12-24</th>\n",
       "      <td>7180.35</td>\n",
       "      <td>7715.0</td>\n",
       "      <td>7794.0</td>\n",
       "      <td>7631.29</td>\n",
       "      <td>7714.0</td>\n",
       "      <td>378885</td>\n",
       "    </tr>\n",
       "    <tr>\n",
       "      <th>2019-12-27</th>\n",
       "      <td>7209.20</td>\n",
       "      <td>7706.0</td>\n",
       "      <td>7781.0</td>\n",
       "      <td>7641.00</td>\n",
       "      <td>7745.0</td>\n",
       "      <td>862283</td>\n",
       "    </tr>\n",
       "    <tr>\n",
       "      <th>2019-12-30</th>\n",
       "      <td>7124.50</td>\n",
       "      <td>7734.0</td>\n",
       "      <td>7767.0</td>\n",
       "      <td>7654.00</td>\n",
       "      <td>7654.0</td>\n",
       "      <td>1394124</td>\n",
       "    </tr>\n",
       "    <tr>\n",
       "      <th>2019-12-31</th>\n",
       "      <td>7080.75</td>\n",
       "      <td>7603.0</td>\n",
       "      <td>7630.0</td>\n",
       "      <td>7535.00</td>\n",
       "      <td>7607.0</td>\n",
       "      <td>576956</td>\n",
       "    </tr>\n",
       "  </tbody>\n",
       "</table>\n",
       "<p>2527 rows × 6 columns</p>\n",
       "</div>"
      ],
      "text/plain": [
       "            Adj Close    Open    High      Low   Close   Volume\n",
       "Date                                                           \n",
       "2009-12-31    1681.68  2913.5  2929.0  2892.00  2910.5   606488\n",
       "2010-01-04    1699.30  2912.0  2946.0  2912.00  2941.0  2091679\n",
       "2010-01-05    1679.94  2936.0  2949.5  2901.00  2907.5  2869739\n",
       "2010-01-06    1661.16  2909.0  2909.0  2850.50  2875.0  3136541\n",
       "2010-01-07    1681.68  2879.0  2925.5  2879.00  2910.5  3748200\n",
       "...               ...     ...     ...      ...     ...      ...\n",
       "2019-12-23    7210.13  7771.0  7824.0  7723.87  7746.0  2183949\n",
       "2019-12-24    7180.35  7715.0  7794.0  7631.29  7714.0   378885\n",
       "2019-12-27    7209.20  7706.0  7781.0  7641.00  7745.0   862283\n",
       "2019-12-30    7124.50  7734.0  7767.0  7654.00  7654.0  1394124\n",
       "2019-12-31    7080.75  7603.0  7630.0  7535.00  7607.0   576956\n",
       "\n",
       "[2527 rows x 6 columns]"
      ]
     },
     "execution_count": 4,
     "metadata": {},
     "output_type": "execute_result"
    }
   ],
   "source": [
    "azn_df"
   ]
  },
  {
   "cell_type": "code",
   "execution_count": 6,
   "metadata": {
    "colab": {
     "base_uri": "https://localhost:8080/",
     "height": 450
    },
    "id": "hYdCjR6ODW8-",
    "outputId": "0326c4f8-2256-4cfa-966b-35a2417c591a"
   },
   "outputs": [
    {
     "data": {
      "text/html": [
       "<div>\n",
       "<style scoped>\n",
       "    .dataframe tbody tr th:only-of-type {\n",
       "        vertical-align: middle;\n",
       "    }\n",
       "\n",
       "    .dataframe tbody tr th {\n",
       "        vertical-align: top;\n",
       "    }\n",
       "\n",
       "    .dataframe thead th {\n",
       "        text-align: right;\n",
       "    }\n",
       "</style>\n",
       "<table border=\"1\" class=\"dataframe\">\n",
       "  <thead>\n",
       "    <tr style=\"text-align: right;\">\n",
       "      <th></th>\n",
       "      <th>Adj Close</th>\n",
       "    </tr>\n",
       "    <tr>\n",
       "      <th>Date</th>\n",
       "      <th></th>\n",
       "    </tr>\n",
       "  </thead>\n",
       "  <tbody>\n",
       "    <tr>\n",
       "      <th>2009-12-31</th>\n",
       "      <td>1681.68</td>\n",
       "    </tr>\n",
       "    <tr>\n",
       "      <th>2010-01-04</th>\n",
       "      <td>1699.30</td>\n",
       "    </tr>\n",
       "    <tr>\n",
       "      <th>2010-01-05</th>\n",
       "      <td>1679.94</td>\n",
       "    </tr>\n",
       "    <tr>\n",
       "      <th>2010-01-06</th>\n",
       "      <td>1661.16</td>\n",
       "    </tr>\n",
       "    <tr>\n",
       "      <th>2010-01-07</th>\n",
       "      <td>1681.68</td>\n",
       "    </tr>\n",
       "    <tr>\n",
       "      <th>...</th>\n",
       "      <td>...</td>\n",
       "    </tr>\n",
       "    <tr>\n",
       "      <th>2019-12-23</th>\n",
       "      <td>7210.13</td>\n",
       "    </tr>\n",
       "    <tr>\n",
       "      <th>2019-12-24</th>\n",
       "      <td>7180.35</td>\n",
       "    </tr>\n",
       "    <tr>\n",
       "      <th>2019-12-27</th>\n",
       "      <td>7209.20</td>\n",
       "    </tr>\n",
       "    <tr>\n",
       "      <th>2019-12-30</th>\n",
       "      <td>7124.50</td>\n",
       "    </tr>\n",
       "    <tr>\n",
       "      <th>2019-12-31</th>\n",
       "      <td>7080.75</td>\n",
       "    </tr>\n",
       "  </tbody>\n",
       "</table>\n",
       "<p>2527 rows × 1 columns</p>\n",
       "</div>"
      ],
      "text/plain": [
       "            Adj Close\n",
       "Date                 \n",
       "2009-12-31    1681.68\n",
       "2010-01-04    1699.30\n",
       "2010-01-05    1679.94\n",
       "2010-01-06    1661.16\n",
       "2010-01-07    1681.68\n",
       "...               ...\n",
       "2019-12-23    7210.13\n",
       "2019-12-24    7180.35\n",
       "2019-12-27    7209.20\n",
       "2019-12-30    7124.50\n",
       "2019-12-31    7080.75\n",
       "\n",
       "[2527 rows x 1 columns]"
      ]
     },
     "execution_count": 6,
     "metadata": {},
     "output_type": "execute_result"
    }
   ],
   "source": [
    "# Create DataFrame for Adjusted Close price\n",
    "\n",
    "azn_adj = azn_df[['Adj Close']]\n",
    "azn_adj "
   ]
  },
  {
   "cell_type": "markdown",
   "metadata": {
    "id": "kYKZFJgwnCWc"
   },
   "source": [
    "\n",
    "### Split the data\n",
    "\n",
    "We will split the data into train and test sets to verify predictions. Time series data cannot be split randomly as this would introduce look-ahead bias so the first 80% will be the training set and the last 20% the test set."
   ]
  },
  {
   "cell_type": "code",
   "execution_count": 7,
   "metadata": {
    "id": "p4PW5qfTGklf"
   },
   "outputs": [],
   "source": [
    "# Creating 80%/20% split\n",
    "\n",
    "split = int(0.8*len(azn_adj))"
   ]
  },
  {
   "cell_type": "code",
   "execution_count": 8,
   "metadata": {
    "id": "mtTCNhaW-egV"
   },
   "outputs": [],
   "source": [
    "# Splitting into train and test\n",
    "\n",
    "train, test = azn_adj[:split], azn_adj[split:]"
   ]
  },
  {
   "cell_type": "code",
   "execution_count": 9,
   "metadata": {
    "colab": {
     "base_uri": "https://localhost:8080/"
    },
    "id": "UEaffxhfAzwj",
    "outputId": "81b7db54-b06d-4884-cb74-79676ca6614f"
   },
   "outputs": [
    {
     "data": {
      "text/plain": [
       "((2527, 1), (2021, 1), (506, 1))"
      ]
     },
     "execution_count": 9,
     "metadata": {},
     "output_type": "execute_result"
    }
   ],
   "source": [
    "azn_adj.shape, train.shape, test.shape"
   ]
  },
  {
   "cell_type": "code",
   "execution_count": 10,
   "metadata": {
    "colab": {
     "base_uri": "https://localhost:8080/"
    },
    "id": "EiB0F4ZlD6gE",
    "outputId": "93ce90e0-26aa-41b9-90d3-b6a54a289913"
   },
   "outputs": [
    {
     "data": {
      "text/plain": [
       "(Timestamp('2009-12-31 00:00:00'),\n",
       " Timestamp('2017-12-29 00:00:00'),\n",
       " Timestamp('2018-01-02 00:00:00'),\n",
       " Timestamp('2019-12-31 00:00:00'))"
      ]
     },
     "execution_count": 10,
     "metadata": {},
     "output_type": "execute_result"
    }
   ],
   "source": [
    "train.index.min(), train.index.max(), test.index.min(), test.index.max()"
   ]
  },
  {
   "cell_type": "markdown",
   "metadata": {
    "id": "nwp54B7anUYR"
   },
   "source": [
    "### Create predictions for the test set"
   ]
  },
  {
   "cell_type": "code",
   "execution_count": 15,
   "metadata": {
    "id": "l1HVTcNfFTJ6"
   },
   "outputs": [],
   "source": [
    "# Make predictions\n",
    "preds = []\n",
    "for i in range(0,506):\n",
    "    a = train[len(train)-506+i:].sum() + sum(preds)\n",
    "    b = a/504\n",
    "    preds.append(b)"
   ]
  },
  {
   "cell_type": "markdown",
   "metadata": {
    "id": "BeMRICdcnkOH"
   },
   "source": [
    "### Calculate the RMSE using the actual values\n",
    "\n"
   ]
  },
  {
   "cell_type": "code",
   "execution_count": 16,
   "metadata": {
    "colab": {
     "base_uri": "https://localhost:8080/"
    },
    "id": "42cAnN8HSGhj",
    "outputId": "d5169d5f-64cc-4003-b0b0-58c65165e155"
   },
   "outputs": [
    {
     "data": {
      "text/plain": [
       "1616.1672222763923"
      ]
     },
     "execution_count": 16,
     "metadata": {},
     "output_type": "execute_result"
    }
   ],
   "source": [
    "# Calculate rmse\n",
    "rmse = np.sqrt(np.mean(np.power((np.array(test)-preds),2)))\n",
    "rmse"
   ]
  },
  {
   "cell_type": "markdown",
   "metadata": {
    "id": "lU1urAuK6HsA"
   },
   "source": []
  },
  {
   "cell_type": "markdown",
   "metadata": {
    "id": "XADC8Dah6RzJ"
   },
   "source": [
    "## 7. Auto ARIMA\n",
    "\n",
    "Auto Regressive Integrated Moving Average (ARIMA) models explains a given time series based on its own past values, that is, its own lags (p) and the lagged forecast errors (q), so that equation can be used to forecast future values. The 'd' parameter represents the number of times that the data have to be differenced to produce a stationary signal that has a constant mean over time. This captures the integrated nature of ARIMA.\n",
    "\n",
    "Auto ARIMA automatically generates the optimal combination of (p,q,d) which would be suitable for the data set to provide better forecasting."
   ]
  },
  {
   "cell_type": "code",
   "execution_count": 18,
   "metadata": {
    "colab": {
     "base_uri": "https://localhost:8080/",
     "height": 450
    },
    "id": "KfItJ7HPu1Vd",
    "outputId": "ca62578b-23aa-4c06-9ef5-566000c8b64b"
   },
   "outputs": [
    {
     "data": {
      "text/html": [
       "<div>\n",
       "<style scoped>\n",
       "    .dataframe tbody tr th:only-of-type {\n",
       "        vertical-align: middle;\n",
       "    }\n",
       "\n",
       "    .dataframe tbody tr th {\n",
       "        vertical-align: top;\n",
       "    }\n",
       "\n",
       "    .dataframe thead th {\n",
       "        text-align: right;\n",
       "    }\n",
       "</style>\n",
       "<table border=\"1\" class=\"dataframe\">\n",
       "  <thead>\n",
       "    <tr style=\"text-align: right;\">\n",
       "      <th></th>\n",
       "      <th>Adj Close</th>\n",
       "    </tr>\n",
       "    <tr>\n",
       "      <th>Date</th>\n",
       "      <th></th>\n",
       "    </tr>\n",
       "  </thead>\n",
       "  <tbody>\n",
       "    <tr>\n",
       "      <th>2009-12-31</th>\n",
       "      <td>1681.68</td>\n",
       "    </tr>\n",
       "    <tr>\n",
       "      <th>2010-01-04</th>\n",
       "      <td>1699.30</td>\n",
       "    </tr>\n",
       "    <tr>\n",
       "      <th>2010-01-05</th>\n",
       "      <td>1679.94</td>\n",
       "    </tr>\n",
       "    <tr>\n",
       "      <th>2010-01-06</th>\n",
       "      <td>1661.16</td>\n",
       "    </tr>\n",
       "    <tr>\n",
       "      <th>2010-01-07</th>\n",
       "      <td>1681.68</td>\n",
       "    </tr>\n",
       "    <tr>\n",
       "      <th>...</th>\n",
       "      <td>...</td>\n",
       "    </tr>\n",
       "    <tr>\n",
       "      <th>2019-12-23</th>\n",
       "      <td>7210.13</td>\n",
       "    </tr>\n",
       "    <tr>\n",
       "      <th>2019-12-24</th>\n",
       "      <td>7180.35</td>\n",
       "    </tr>\n",
       "    <tr>\n",
       "      <th>2019-12-27</th>\n",
       "      <td>7209.20</td>\n",
       "    </tr>\n",
       "    <tr>\n",
       "      <th>2019-12-30</th>\n",
       "      <td>7124.50</td>\n",
       "    </tr>\n",
       "    <tr>\n",
       "      <th>2019-12-31</th>\n",
       "      <td>7080.75</td>\n",
       "    </tr>\n",
       "  </tbody>\n",
       "</table>\n",
       "<p>2527 rows × 1 columns</p>\n",
       "</div>"
      ],
      "text/plain": [
       "            Adj Close\n",
       "Date                 \n",
       "2009-12-31    1681.68\n",
       "2010-01-04    1699.30\n",
       "2010-01-05    1679.94\n",
       "2010-01-06    1661.16\n",
       "2010-01-07    1681.68\n",
       "...               ...\n",
       "2019-12-23    7210.13\n",
       "2019-12-24    7180.35\n",
       "2019-12-27    7209.20\n",
       "2019-12-30    7124.50\n",
       "2019-12-31    7080.75\n",
       "\n",
       "[2527 rows x 1 columns]"
      ]
     },
     "execution_count": 18,
     "metadata": {},
     "output_type": "execute_result"
    }
   ],
   "source": [
    "# Create Adjusted Close price DataFrame\n",
    "\n",
    "azn_adj = azn_df[['Adj Close']]\n",
    "azn_adj "
   ]
  },
  {
   "cell_type": "markdown",
   "metadata": {
    "id": "PPspOZ4UPTVB"
   },
   "source": [
    "### Split the data into train and test sets"
   ]
  },
  {
   "cell_type": "code",
   "execution_count": 19,
   "metadata": {
    "id": "lSTMQkXerJ3O"
   },
   "outputs": [],
   "source": [
    "split = int(0.8*len(azn_adj))"
   ]
  },
  {
   "cell_type": "code",
   "execution_count": 20,
   "metadata": {
    "id": "xdI2iL2IrQYu"
   },
   "outputs": [],
   "source": [
    "train, test = azn_adj[:split], azn_adj[split:]"
   ]
  },
  {
   "cell_type": "code",
   "execution_count": 21,
   "metadata": {
    "colab": {
     "base_uri": "https://localhost:8080/"
    },
    "id": "Ol9Wyz8ZjUdJ",
    "outputId": "6bf80959-5d48-443d-e5e4-8d04c8e17a81"
   },
   "outputs": [
    {
     "data": {
      "text/plain": [
       "((2527, 1), (2021, 1), (506, 1))"
      ]
     },
     "execution_count": 21,
     "metadata": {},
     "output_type": "execute_result"
    }
   ],
   "source": [
    "azn_adj.shape, train.shape, test.shape"
   ]
  },
  {
   "cell_type": "markdown",
   "metadata": {
    "id": "j6Vm9KPaPgPo"
   },
   "source": [
    "### Create, train and test model"
   ]
  },
  {
   "cell_type": "code",
   "execution_count": 22,
   "metadata": {
    "colab": {
     "base_uri": "https://localhost:8080/"
    },
    "id": "bju_UAxEjYnI",
    "outputId": "e6de979c-dfc2-4cd2-b91b-65191eeae90a"
   },
   "outputs": [
    {
     "name": "stdout",
     "output_type": "stream",
     "text": [
      "Performing stepwise search to minimize aic\n",
      " ARIMA(1,1,1)(0,1,1)[12]             : AIC=inf, Time=1.99 sec\n",
      " ARIMA(0,1,0)(0,1,0)[12]             : AIC=22188.162, Time=0.06 sec\n",
      " ARIMA(1,1,0)(1,1,0)[12]             : AIC=21647.306, Time=0.53 sec\n",
      " ARIMA(0,1,1)(0,1,1)[12]             : AIC=inf, Time=1.59 sec\n",
      " ARIMA(1,1,0)(0,1,0)[12]             : AIC=22189.784, Time=0.08 sec\n",
      " ARIMA(1,1,0)(2,1,0)[12]             : AIC=21397.230, Time=1.37 sec\n",
      " ARIMA(1,1,0)(2,1,1)[12]             : AIC=inf, Time=6.45 sec\n",
      " ARIMA(1,1,0)(1,1,1)[12]             : AIC=inf, Time=2.45 sec\n",
      " ARIMA(0,1,0)(2,1,0)[12]             : AIC=21395.242, Time=1.10 sec\n",
      " ARIMA(0,1,0)(1,1,0)[12]             : AIC=21645.627, Time=0.34 sec\n",
      " ARIMA(0,1,0)(2,1,1)[12]             : AIC=inf, Time=6.86 sec\n",
      " ARIMA(0,1,0)(1,1,1)[12]             : AIC=inf, Time=2.60 sec\n",
      " ARIMA(0,1,1)(2,1,0)[12]             : AIC=21397.230, Time=1.89 sec\n",
      " ARIMA(1,1,1)(2,1,0)[12]             : AIC=21399.220, Time=1.61 sec\n",
      " ARIMA(0,1,0)(2,1,0)[12] intercept   : AIC=21397.240, Time=5.77 sec\n",
      "\n",
      "Best model:  ARIMA(0,1,0)(2,1,0)[12]          \n",
      "Total fit time: 34.701 seconds\n"
     ]
    }
   ],
   "source": [
    "# Create model to find best parameters\n",
    "model = auto_arima(train, start_p=1, start_q=1,max_p=3, max_q=3, m=12,start_P=0, seasonal=True,d=1, D=1, trace=True,error_action='ignore',suppress_warnings=True)\n",
    "# Train model\n",
    "model.fit(train)\n",
    "# Make predictions on test set\n",
    "forecast = model.predict(n_periods=506)\n",
    "# Create DataFrame for Predictions\n",
    "forecast = pd.DataFrame(forecast,index = test.index,columns=['Prediction'])"
   ]
  },
  {
   "cell_type": "markdown",
   "metadata": {
    "id": "akbfGZp2Pz-A"
   },
   "source": [
    "### Calculate the RMSE using the actual values"
   ]
  },
  {
   "cell_type": "code",
   "execution_count": 28,
   "metadata": {
    "colab": {
     "base_uri": "https://localhost:8080/"
    },
    "id": "g6qPd-x3jsB0",
    "outputId": "02f95e16-17d5-4ab3-ffb9-d4c7687ed2bf"
   },
   "outputs": [
    {
     "name": "stdout",
     "output_type": "stream",
     "text": [
      "R^2 score: 0.764\n"
     ]
    },
    {
     "data": {
      "text/plain": [
       "397.1243762237044"
      ]
     },
     "execution_count": 28,
     "metadata": {},
     "output_type": "execute_result"
    }
   ],
   "source": [
    "rmse = np.sqrt(np.mean(np.power((np.array(test['Adj Close'])-np.array(forecast['Prediction'])),2)))\n",
    "print('R^2 score: {}'.format(round(r2_score(forecast['Prediction'], test['Adj Close']), 3)))\n",
    "rmse"
   ]
  },
  {
   "cell_type": "markdown",
   "metadata": {
    "id": "KEaEmYyTP87v"
   },
   "source": [
    "### Print results and plot residuals of optimised model"
   ]
  },
  {
   "cell_type": "code",
   "execution_count": 31,
   "metadata": {
    "colab": {
     "base_uri": "https://localhost:8080/",
     "height": 507
    },
    "id": "mCigmiUgckO4",
    "outputId": "dfc4317b-3316-40a8-8810-1198191f4357"
   },
   "outputs": [
    {
     "name": "stdout",
     "output_type": "stream",
     "text": [
      "                               SARIMAX Results                                \n",
      "==============================================================================\n",
      "Dep. Variable:              Adj Close   No. Observations:                 2527\n",
      "Model:                 ARIMA(0, 1, 0)   Log Likelihood              -13522.446\n",
      "Date:                Tue, 09 Aug 2022   AIC                          27046.893\n",
      "Time:                        23:42:37   BIC                          27052.727\n",
      "Sample:                             0   HQIC                         27049.010\n",
      "                               - 2527                                         \n",
      "Covariance Type:                  opg                                         \n",
      "==============================================================================\n",
      "                 coef    std err          z      P>|z|      [0.025      0.975]\n",
      "------------------------------------------------------------------------------\n",
      "sigma2      2613.2123     20.889    125.097      0.000    2572.270    2654.155\n",
      "===================================================================================\n",
      "Ljung-Box (L1) (Q):                   0.35   Jarque-Bera (JB):             55121.50\n",
      "Prob(Q):                              0.55   Prob(JB):                         0.00\n",
      "Heteroskedasticity (H):              10.74   Skew:                            -0.23\n",
      "Prob(H) (two-sided):                  0.00   Kurtosis:                        25.88\n",
      "===================================================================================\n",
      "\n",
      "Warnings:\n",
      "[1] Covariance matrix calculated using the outer product of gradients (complex-step).\n"
     ]
    },
    {
     "data": {
      "image/png": "[encoded data removed]",
      "text/plain": [
       "<Figure size 1080x648 with 1 Axes>"
      ]
     },
     "metadata": {},
     "output_type": "display_data"
    }
   ],
   "source": [
    "# Create model with best parameters and print results\n",
    "model = ARIMA(azn_adj['Adj Close'], order=(0,1,0))\n",
    "model_fit = model.fit()\n",
    "print(model_fit.summary())\n",
    "\n",
    "# plot residual errors\n",
    "residuals = DataFrame(model_fit.resid)\n",
    "residuals.plot();"
   ]
  },
  {
   "cell_type": "code",
   "execution_count": null,
   "metadata": {},
   "outputs": [],
   "source": []
  },
  {
   "cell_type": "code",
   "execution_count": null,
   "metadata": {},
   "outputs": [],
   "source": [
    "print('R^2 score: {}'.format(round(r2_score(forecast1, test['Adj Close']), 3)))"
   ]
  },
  {
   "cell_type": "markdown",
   "metadata": {
    "id": "xMCPIMGoQWTx"
   },
   "source": [
    "### Visualise predicted values along with the actual values"
   ]
  },
  {
   "cell_type": "code",
   "execution_count": 26,
   "metadata": {
    "colab": {
     "base_uri": "https://localhost:8080/",
     "height": 632
    },
    "id": "wIjAtRtFkLfB",
    "outputId": "354c4a43-cab5-497a-dccf-4319ead4e9a1"
   },
   "outputs": [
    {
     "data": {
      "image/png": "[encoded data removed]",
      "text/plain": [
       "<Figure size 1440x720 with 1 Axes>"
      ]
     },
     "metadata": {},
     "output_type": "display_data"
    }
   ],
   "source": [
    "# Plot predicted vs actual values\n",
    "plt.figure(figsize=(20,10))\n",
    "sns.set_style(\"whitegrid\")\n",
    "\n",
    "plt.plot(train['Adj Close'], label='Training')\n",
    "plt.plot(test['Adj Close'], label='Actual')\n",
    "plt.plot(forecast['Prediction'], label='Predicted')\n",
    "plt.title(\"AZN Adjusted Close Price - ARIMA\", color = 'black', fontsize = 20)\n",
    "plt.xlabel('Year', color = 'black', fontsize = 15)\n",
    "plt.ylabel('Stock Price', color = 'black', fontsize = 15)\n",
    "plt.legend();"
   ]
  }
 ],
 "metadata": {
  "colab": {
   "collapsed_sections": [],
   "name": "Time_Series_Machine_Learning_and_Deep_Learning.ipynb",
   "provenance": []
  },
  "kernelspec": {
   "display_name": "Python 3 (ipykernel)",
   "language": "python",
   "name": "python3"
  },
  "language_info": {
   "codemirror_mode": {
    "name": "ipython",
    "version": 3
   },
   "file_extension": ".py",
   "mimetype": "text/x-python",
   "name": "python",
   "nbconvert_exporter": "python",
   "pygments_lexer": "ipython3",
   "version": "3.9.6"
  }
 },
 "nbformat": 4,
 "nbformat_minor": 4
}
